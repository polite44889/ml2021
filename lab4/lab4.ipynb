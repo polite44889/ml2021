{
 "cells": [
  {
   "cell_type": "markdown",
   "metadata": {},
   "source": [
    "# Лабораторна робота 4\n",
    "### Студента групи МІТ-31\n",
    "### Ярощука Назара Юрійовича\n"
   ]
  },
  {
   "cell_type": "code",
   "execution_count": 40,
   "metadata": {},
   "outputs": [],
   "source": [
    "import tensorflow as tf\n",
    "import numpy as np\n",
    "import matplotlib.pyplot as plt\n",
    "import numpy as np\n",
    "import sklearn.metrics as metrics\n",
    "import pandas as pd\n",
    "import seaborn as sns"
   ]
  },
  {
   "cell_type": "code",
   "execution_count": 41,
   "metadata": {},
   "outputs": [
    {
     "name": "stdout",
     "output_type": "stream",
     "text": [
      "tf.Tensor(\n",
      "[[1 2]\n",
      " [3 4]], shape=(2, 2), dtype=int32)\n",
      "[[ 1  4]\n",
      " [ 9 16]]\n",
      "tf.Tensor(\n",
      "[[101 102]\n",
      " [103 104]], shape=(2, 2), dtype=int32)\n",
      "tf.Tensor([[101 102]], shape=(1, 2), dtype=int32)\n"
     ]
    }
   ],
   "source": [
    "\n",
    "matrix = tf.constant([[1, 2], [3, 4]])\n",
    "print(matrix)\n",
    "\n",
    "print(np.square(matrix))\n",
    "\n",
    "matrix = matrix + 100\n",
    "print(matrix)\n",
    "\n",
    "tf1_without_2nd_row = tf.gather(matrix, [0])\n",
    "\n",
    "print(tf1_without_2nd_row)"
   ]
  },
  {
   "cell_type": "code",
   "execution_count": 42,
   "metadata": {},
   "outputs": [
    {
     "data": {
      "text/plain": [
       "<tf.Tensor: shape=(), dtype=int32, numpy=10>"
      ]
     },
     "execution_count": 42,
     "metadata": {},
     "output_type": "execute_result"
    }
   ],
   "source": [
    "scalar = tf.constant(10)\n",
    "scalar"
   ]
  },
  {
   "cell_type": "code",
   "execution_count": 43,
   "metadata": {},
   "outputs": [
    {
     "data": {
      "text/plain": [
       "0"
      ]
     },
     "execution_count": 43,
     "metadata": {},
     "output_type": "execute_result"
    }
   ],
   "source": [
    "scalar.ndim"
   ]
  },
  {
   "cell_type": "code",
   "execution_count": 44,
   "metadata": {},
   "outputs": [
    {
     "data": {
      "text/plain": [
       "<tf.Tensor: shape=(2,), dtype=int32, numpy=array([19, 11])>"
      ]
     },
     "execution_count": 44,
     "metadata": {},
     "output_type": "execute_result"
    }
   ],
   "source": [
    "vector = tf.constant([19, 11])\n",
    "vector"
   ]
  },
  {
   "cell_type": "code",
   "execution_count": 45,
   "metadata": {},
   "outputs": [
    {
     "data": {
      "text/plain": [
       "1"
      ]
     },
     "execution_count": 45,
     "metadata": {},
     "output_type": "execute_result"
    }
   ],
   "source": [
    "vector.ndim"
   ]
  },
  {
   "cell_type": "code",
   "execution_count": 46,
   "metadata": {},
   "outputs": [
    {
     "data": {
      "text/plain": [
       "<tf.Tensor: shape=(2, 2), dtype=int32, numpy=\n",
       "array([[1, 2],\n",
       "       [3, 4]])>"
      ]
     },
     "execution_count": 46,
     "metadata": {},
     "output_type": "execute_result"
    }
   ],
   "source": [
    "mat1 = tf.constant([[1, 2],\n",
    "                    [3, 4]])\n",
    "mat1"
   ]
  },
  {
   "cell_type": "code",
   "execution_count": 47,
   "metadata": {},
   "outputs": [
    {
     "data": {
      "text/plain": [
       "2"
      ]
     },
     "execution_count": 47,
     "metadata": {},
     "output_type": "execute_result"
    }
   ],
   "source": [
    "mat1.ndim"
   ]
  },
  {
   "cell_type": "code",
   "execution_count": 48,
   "metadata": {},
   "outputs": [
    {
     "data": {
      "text/plain": [
       "<tf.Tensor: shape=(3, 2), dtype=float16, numpy=\n",
       "array([[1., 4.],\n",
       "       [3., 2.],\n",
       "       [5., 6.]], dtype=float16)>"
      ]
     },
     "execution_count": 48,
     "metadata": {},
     "output_type": "execute_result"
    }
   ],
   "source": [
    "mat2 = tf.constant([[1., 4.],\n",
    "                    [3., 2.],\n",
    "                    [5., 6.]], dtype=tf.float16)\n",
    "\n",
    "mat2"
   ]
  },
  {
   "cell_type": "code",
   "execution_count": 49,
   "metadata": {},
   "outputs": [
    {
     "data": {
      "text/plain": [
       "2"
      ]
     },
     "execution_count": 49,
     "metadata": {},
     "output_type": "execute_result"
    }
   ],
   "source": [
    "mat2.ndim"
   ]
  },
  {
   "cell_type": "code",
   "execution_count": 50,
   "metadata": {},
   "outputs": [
    {
     "data": {
      "text/plain": [
       "<tf.Tensor: shape=(3, 2, 3), dtype=int32, numpy=\n",
       "array([[[ 1,  2,  3],\n",
       "        [ 4,  5,  6]],\n",
       "\n",
       "       [[ 7,  8,  9],\n",
       "        [10, 11, 12]],\n",
       "\n",
       "       [[13, 14, 15],\n",
       "        [16, 17, 18]]])>"
      ]
     },
     "execution_count": 50,
     "metadata": {},
     "output_type": "execute_result"
    }
   ],
   "source": [
    "tensor = tf.constant([[[1, 2, 3,],\n",
    "                       [4, 5, 6]],\n",
    "                      [[7, 8, 9],\n",
    "                       [10, 11, 12]],\n",
    "                      [[13, 14, 15],\n",
    "                       [16, 17, 18]]])\n",
    "tensor"
   ]
  },
  {
   "cell_type": "code",
   "execution_count": 51,
   "metadata": {},
   "outputs": [
    {
     "data": {
      "text/plain": [
       "3"
      ]
     },
     "execution_count": 51,
     "metadata": {},
     "output_type": "execute_result"
    }
   ],
   "source": [
    "tensor.ndim"
   ]
  },
  {
   "cell_type": "code",
   "execution_count": 52,
   "metadata": {},
   "outputs": [],
   "source": [
    "random_1 = tf.random.Generator.from_seed(7)\n",
    "random_1 = random_1.normal(shape=(4, 2))\n",
    "random_2 = tf.random.Generator.from_seed(10)\n",
    "random_2 = random_2.normal(shape=(5, 3))"
   ]
  },
  {
   "cell_type": "code",
   "execution_count": 53,
   "metadata": {},
   "outputs": [
    {
     "name": "stdout",
     "output_type": "stream",
     "text": [
      "   a1  a2  a3  a4  a5  a7\n",
      "0  55  93  92  91  34   6\n",
      "1  11  16  37  19  91  66\n",
      "2  50  99  67  26  19  80\n",
      "3  44  15  24  75  53  98\n",
      "4  57  86  39  11  92  44\n",
      "5  66  39  58   1  25  66\n",
      "              a1        a2         a3         a4         a5         a7\n",
      "count   6.000000   6.00000   6.000000   6.000000   6.000000   6.000000\n",
      "mean   47.166667  58.00000  52.833333  37.166667  52.333333  60.000000\n",
      "std    19.177243  39.15099  24.636694  36.815305  32.444825  31.899843\n",
      "min    11.000000  15.00000  24.000000   1.000000  19.000000   6.000000\n",
      "25%    45.500000  21.75000  37.500000  13.000000  27.250000  49.500000\n",
      "50%    52.500000  62.50000  48.500000  22.500000  43.500000  66.000000\n",
      "75%    56.500000  91.25000  64.750000  62.750000  81.500000  76.500000\n",
      "max    66.000000  99.00000  92.000000  91.000000  92.000000  98.000000\n"
     ]
    }
   ],
   "source": [
    "df2 = pd.DataFrame(np.random.randint(0, 100, (6, 6)), columns=[\"a1\", \"a2\", \"a3\", \"a4\", \"a5\",\"a7\"])\n",
    "print(df2)\n",
    "print(df2.describe(include='all'))"
   ]
  },
  {
   "cell_type": "code",
   "execution_count": 54,
   "metadata": {},
   "outputs": [
    {
     "name": "stdout",
     "output_type": "stream",
     "text": [
      "    column1   column2   column3  target\n",
      "0  0.951197  0.961247  0.960017       0\n",
      "1  0.317158  0.729322  0.545981       2\n",
      "2  0.029879  0.286069  0.134868       0\n",
      "3  0.559382  0.466707  0.055803       1\n",
      "4  0.949680  0.962262  0.345196       1\n",
      "5  0.378446  0.132627  0.190105       1\n",
      "6  0.334246  0.873494  0.846797       0\n",
      "7  0.371508  0.527493  0.289499       0\n",
      "8  0.039977  0.336130  0.324300       1\n",
      "9  0.305712  0.335303  0.930672       2\n",
      "features:[0.95119655 0.9612468  0.9600167 ] target:0\n",
      "features:[0.31715834 0.7293221  0.54598117] target:2\n",
      "features:[0.02987865 0.28606883 0.13486762] target:0\n",
      "features:[0.5593819  0.4667066  0.05580265] target:1\n",
      "features:[0.94968015 0.9622619  0.3451965 ] target:1\n",
      "features:[0.37844568 0.13262697 0.19010532] target:1\n",
      "features:[0.3342457  0.8734936  0.84679693] target:0\n",
      "features:[0.37150806 0.5274933  0.28949934] target:0\n",
      "features:[0.03997704 0.33613023 0.3243004 ] target:1\n",
      "features:[0.3057116  0.33530256 0.93067163] target:2\n"
     ]
    }
   ],
   "source": [
    "training_df: pd.DataFrame = pd.DataFrame(\n",
    "    data={\n",
    "        'column1': np.random.rand(10),\n",
    "        'column2': np.random.rand(10),\n",
    "        'column3': np.random.rand(10),\n",
    "        'target': np.random.randint(0, 3, 10)\n",
    "    }\n",
    ")\n",
    "features = ['column1', 'column2', 'column3']\n",
    "print(training_df)\n",
    "\n",
    "training_dataset = (\n",
    "    tf.data.Dataset.from_tensor_slices(\n",
    "        (\n",
    "            tf.cast(training_df[features].values, tf.float32),\n",
    "            tf.cast(training_df['target'].values, tf.int32)\n",
    "        )\n",
    "    )\n",
    ")\n",
    "\n",
    "for features_tensor, target_tensor in training_dataset:\n",
    "    print(f'features:{features_tensor} target:{target_tensor}')"
   ]
  },
  {
   "cell_type": "code",
   "execution_count": 55,
   "metadata": {},
   "outputs": [
    {
     "data": {
      "image/png": "[encoded data removed]",
      "text/plain": [
       "<Figure size 432x288 with 1 Axes>"
      ]
     },
     "metadata": {
      "needs_background": "light"
     },
     "output_type": "display_data"
    }
   ],
   "source": [
    "x = np.arange(0, 20, 1.5)\n",
    "y1 = x * 1.5\n",
    "\n",
    "adder = np.random.random(len(x)) * 1.4 - 0.7\n",
    "y2 = y1 + adder\n",
    "\n",
    "plt.figure()\n",
    "plt.grid()\n",
    "plt.xticks(x)\n",
    "plt.yticks(range(int(x[-1] * 1.5 + 1)))\n",
    "plt.xlabel('X Axis')\n",
    "plt.ylabel('Y Axis')\n",
    "\n",
    "plt.plot(x, y1, \"r--\", label=\"teoretic\")\n",
    "plt.plot(x, y2, \"b\", label=\"result\")\n",
    "\n",
    "plt.legend()\n",
    "plt.show()"
   ]
  },
  {
   "cell_type": "code",
   "execution_count": 56,
   "metadata": {},
   "outputs": [
    {
     "name": "stdout",
     "output_type": "stream",
     "text": [
      "0.3606369859057236\n",
      "0.18492953398220355\n"
     ]
    }
   ],
   "source": [
    "mae = metrics.mean_absolute_error(y2, y1)\n",
    "mse = metrics.mean_squared_error(y2, y1)\n",
    "print(mae)\n",
    "print(mse)"
   ]
  },
  {
   "cell_type": "code",
   "execution_count": 57,
   "metadata": {},
   "outputs": [
    {
     "name": "stdout",
     "output_type": "stream",
     "text": [
      "       X          Y  Y_hat\n",
      "0    0.0   0.220348   0.00\n",
      "1    1.5   2.246432   2.25\n",
      "2    3.0   4.518975   4.50\n",
      "3    4.5   6.317355   6.75\n",
      "4    6.0   8.308186   9.00\n",
      "5    7.5  11.096667  11.25\n",
      "6    9.0  13.970079  13.50\n",
      "7   10.5  15.534415  15.75\n",
      "8   12.0  18.267770  18.00\n",
      "9   13.5  20.876052  20.25\n",
      "10  15.0  22.296249  22.50\n",
      "11  16.5  24.071472  24.75\n",
      "12  18.0  26.310079  27.00\n",
      "13  19.5  28.873453  29.25\n"
     ]
    }
   ],
   "source": [
    "df = pd.DataFrame(np.array([x, y2, y1]).swapaxes(0,1), columns=['X', 'Y', 'Y_hat'])\n",
    "print(df)\n",
    "with open('output.csv', 'w') as f:\n",
    "    f.write(df.to_csv(index=False))"
   ]
  },
  {
   "cell_type": "markdown",
   "metadata": {},
   "source": [
    "### Класифікація"
   ]
  },
  {
   "cell_type": "code",
   "execution_count": 58,
   "metadata": {},
   "outputs": [
    {
     "name": "stdout",
     "output_type": "stream",
     "text": [
      "Epoch 1/5\n",
      "1/1 [==============================] - 0s 394ms/step - loss: -207.5756 - accuracy: 0.0714\n",
      "Epoch 2/5\n",
      "1/1 [==============================] - 0s 3ms/step - loss: -207.6431 - accuracy: 0.0714\n",
      "Epoch 3/5\n",
      "1/1 [==============================] - 0s 3ms/step - loss: -207.7709 - accuracy: 0.0714\n",
      "Epoch 4/5\n",
      "1/1 [==============================] - 0s 3ms/step - loss: -208.8559 - accuracy: 0.0714\n",
      "Epoch 5/5\n",
      "1/1 [==============================] - 0s 3ms/step - loss: -208.8548 - accuracy: 0.0714\n"
     ]
    },
    {
     "data": {
      "text/plain": [
       "<keras.callbacks.History at 0x28cd33957f0>"
      ]
     },
     "execution_count": 58,
     "metadata": {},
     "output_type": "execute_result"
    }
   ],
   "source": [
    "tf.random.set_seed(42)\n",
    "\n",
    "model = tf.keras.Sequential([\n",
    "  tf.keras.layers.Dense(100), \n",
    "  tf.keras.layers.Dense(10),\n",
    "  tf.keras.layers.Dense(1)\n",
    "])\n",
    "\n",
    "model.compile(loss=tf.keras.losses.BinaryCrossentropy(),\n",
    "                optimizer=tf.keras.optimizers.Adam(), \n",
    "                metrics=['accuracy'])\n",
    "\n",
    "model.fit(tf.expand_dims(x, axis=-1), y1, epochs=5)"
   ]
  },
  {
   "cell_type": "code",
   "execution_count": 59,
   "metadata": {},
   "outputs": [],
   "source": [
    "def plot_decision_boundary(model, X, y):\n",
    "    \n",
    "  x_min, x_max = X[:, 0].min() - 0.1, X[:, 0].max() + 0.1\n",
    "  y_min, y_max = X[:, 1].min() - 0.1, X[:, 1].max() + 0.1\n",
    "  xx, yy = np.meshgrid(np.linspace(x_min, x_max, 100),\n",
    "                       np.linspace(y_min, y_max, 100))\n",
    "  \n",
    "  x_in = np.c_[xx.ravel(), yy.ravel()]\n",
    " \n",
    "  y_pred = model.predict(x_in)\n",
    "\n",
    "  if len(y_pred[0]) > 1:\n",
    "    print(\"doing multiclass classification...\")\n",
    "    y_pred = np.argmax(y_pred, axis=1).reshape(xx.shape)\n",
    "  else:\n",
    "    print(\"doing binary classifcation...\")\n",
    "    y_pred = np.round(y_pred).reshape(xx.shape)\n",
    "\n",
    "  plt.contourf(xx, yy, y_pred, cmap=plt.cm.RdYlBu, alpha=0.7)\n",
    "  plt.scatter(X[:, 0], X[:, 1], c=y, s=40, cmap=plt.cm.RdYlBu)\n",
    "  plt.xlim(xx.min(), xx.max())\n",
    "  plt.ylim(yy.min(), yy.max())"
   ]
  },
  {
   "cell_type": "code",
   "execution_count": 60,
   "metadata": {},
   "outputs": [],
   "source": [
    "tf.random.set_seed(42)\n",
    "\n",
    "X_regression = np.arange(0, 1000, 5)\n",
    "y_regression = np.arange(100, 1100, 5)\n",
    "\n",
    "X_reg_train = X_regression[:150]\n",
    "X_reg_test = X_regression[150:]\n",
    "y_reg_train = y_regression[:150]\n",
    "y_reg_test = y_regression[150:]"
   ]
  },
  {
   "cell_type": "code",
   "execution_count": 61,
   "metadata": {},
   "outputs": [
    {
     "name": "stdout",
     "output_type": "stream",
     "text": [
      "Epoch 1/100\n",
      "5/5 [==============================] - 0s 1ms/step - loss: 248.2155 - mae: 248.2155\n",
      "Epoch 2/100\n",
      "5/5 [==============================] - 0s 2ms/step - loss: 138.9005 - mae: 138.9005\n",
      "Epoch 3/100\n",
      "5/5 [==============================] - 0s 2ms/step - loss: 53.1039 - mae: 53.1039\n",
      "Epoch 4/100\n",
      "5/5 [==============================] - 0s 2ms/step - loss: 73.5170 - mae: 73.5170\n",
      "Epoch 5/100\n",
      "5/5 [==============================] - 0s 2ms/step - loss: 71.2358 - mae: 71.2358\n",
      "Epoch 6/100\n",
      "5/5 [==============================] - 0s 1ms/step - loss: 47.0040 - mae: 47.0040\n",
      "Epoch 7/100\n",
      "5/5 [==============================] - 0s 2ms/step - loss: 45.9386 - mae: 45.9386\n",
      "Epoch 8/100\n",
      "5/5 [==============================] - 0s 2ms/step - loss: 42.3638 - mae: 42.3638\n",
      "Epoch 9/100\n",
      "5/5 [==============================] - 0s 2ms/step - loss: 43.6831 - mae: 43.6831\n",
      "Epoch 10/100\n",
      "5/5 [==============================] - 0s 2ms/step - loss: 42.6198 - mae: 42.6198\n",
      "Epoch 11/100\n",
      "5/5 [==============================] - 0s 2ms/step - loss: 42.4797 - mae: 42.4797\n",
      "Epoch 12/100\n",
      "5/5 [==============================] - 0s 2ms/step - loss: 41.5537 - mae: 41.5537\n",
      "Epoch 13/100\n",
      "5/5 [==============================] - 0s 2ms/step - loss: 42.0972 - mae: 42.0972\n",
      "Epoch 14/100\n",
      "5/5 [==============================] - 0s 1ms/step - loss: 41.8647 - mae: 41.8647\n",
      "Epoch 15/100\n",
      "5/5 [==============================] - 0s 2ms/step - loss: 41.5342 - mae: 41.5342\n",
      "Epoch 16/100\n",
      "5/5 [==============================] - 0s 1ms/step - loss: 41.4028 - mae: 41.4028\n",
      "Epoch 17/100\n",
      "5/5 [==============================] - 0s 2ms/step - loss: 41.6887 - mae: 41.6887\n",
      "Epoch 18/100\n",
      "5/5 [==============================] - 0s 1ms/step - loss: 41.6137 - mae: 41.6137\n",
      "Epoch 19/100\n",
      "5/5 [==============================] - 0s 2ms/step - loss: 41.2796 - mae: 41.2796\n",
      "Epoch 20/100\n",
      "5/5 [==============================] - 0s 2ms/step - loss: 41.1947 - mae: 41.1947\n",
      "Epoch 21/100\n",
      "5/5 [==============================] - 0s 2ms/step - loss: 41.2130 - mae: 41.2130\n",
      "Epoch 22/100\n",
      "5/5 [==============================] - 0s 2ms/step - loss: 41.0893 - mae: 41.0893\n",
      "Epoch 23/100\n",
      "5/5 [==============================] - 0s 2ms/step - loss: 41.2019 - mae: 41.2019\n",
      "Epoch 24/100\n",
      "5/5 [==============================] - 0s 2ms/step - loss: 40.9989 - mae: 40.9989\n",
      "Epoch 25/100\n",
      "5/5 [==============================] - 0s 2ms/step - loss: 41.0131 - mae: 41.0131\n",
      "Epoch 26/100\n",
      "5/5 [==============================] - 0s 2ms/step - loss: 41.0654 - mae: 41.0654\n",
      "Epoch 27/100\n",
      "5/5 [==============================] - 0s 2ms/step - loss: 40.8764 - mae: 40.8764\n",
      "Epoch 28/100\n",
      "5/5 [==============================] - 0s 2ms/step - loss: 41.0545 - mae: 41.0545\n",
      "Epoch 29/100\n",
      "5/5 [==============================] - 0s 3ms/step - loss: 41.0480 - mae: 41.0480\n",
      "Epoch 30/100\n",
      "5/5 [==============================] - 0s 3ms/step - loss: 40.8807 - mae: 40.8807\n",
      "Epoch 31/100\n",
      "5/5 [==============================] - 0s 3ms/step - loss: 41.2695 - mae: 41.2695\n",
      "Epoch 32/100\n",
      "5/5 [==============================] - 0s 2ms/step - loss: 40.9949 - mae: 40.9949\n",
      "Epoch 33/100\n",
      "5/5 [==============================] - 0s 1ms/step - loss: 41.0760 - mae: 41.0760\n",
      "Epoch 34/100\n",
      "5/5 [==============================] - 0s 1ms/step - loss: 41.2471 - mae: 41.2471\n",
      "Epoch 35/100\n",
      "5/5 [==============================] - 0s 1ms/step - loss: 40.6102 - mae: 40.6102\n",
      "Epoch 36/100\n",
      "5/5 [==============================] - 0s 1ms/step - loss: 41.1093 - mae: 41.1093\n",
      "Epoch 37/100\n",
      "5/5 [==============================] - 0s 1ms/step - loss: 40.8191 - mae: 40.8191\n",
      "Epoch 38/100\n",
      "5/5 [==============================] - 0s 1ms/step - loss: 40.2485 - mae: 40.2485\n",
      "Epoch 39/100\n",
      "5/5 [==============================] - 0s 1ms/step - loss: 41.0625 - mae: 41.0625\n",
      "Epoch 40/100\n",
      "5/5 [==============================] - 0s 1ms/step - loss: 40.5311 - mae: 40.5311\n",
      "Epoch 41/100\n",
      "5/5 [==============================] - 0s 2ms/step - loss: 40.5497 - mae: 40.5497\n",
      "Epoch 42/100\n",
      "5/5 [==============================] - 0s 1ms/step - loss: 40.4322 - mae: 40.4322\n",
      "Epoch 43/100\n",
      "5/5 [==============================] - 0s 1ms/step - loss: 40.5367 - mae: 40.5367\n",
      "Epoch 44/100\n",
      "5/5 [==============================] - 0s 2ms/step - loss: 40.2487 - mae: 40.2487\n",
      "Epoch 45/100\n",
      "5/5 [==============================] - 0s 2ms/step - loss: 40.5152 - mae: 40.5152\n",
      "Epoch 46/100\n",
      "5/5 [==============================] - 0s 2ms/step - loss: 40.3702 - mae: 40.3702\n",
      "Epoch 47/100\n",
      "5/5 [==============================] - 0s 2ms/step - loss: 40.4769 - mae: 40.4769\n",
      "Epoch 48/100\n",
      "5/5 [==============================] - 0s 2ms/step - loss: 40.1532 - mae: 40.1532\n",
      "Epoch 49/100\n",
      "5/5 [==============================] - 0s 1ms/step - loss: 40.7291 - mae: 40.7291\n",
      "Epoch 50/100\n",
      "5/5 [==============================] - 0s 2ms/step - loss: 40.1536 - mae: 40.1536\n",
      "Epoch 51/100\n",
      "5/5 [==============================] - 0s 2ms/step - loss: 40.2711 - mae: 40.2711\n",
      "Epoch 52/100\n",
      "5/5 [==============================] - 0s 1ms/step - loss: 40.6572 - mae: 40.6572\n",
      "Epoch 53/100\n",
      "5/5 [==============================] - 0s 2ms/step - loss: 40.6573 - mae: 40.6573\n",
      "Epoch 54/100\n",
      "5/5 [==============================] - 0s 2ms/step - loss: 40.6894 - mae: 40.6894\n",
      "Epoch 55/100\n",
      "5/5 [==============================] - 0s 2ms/step - loss: 41.2771 - mae: 41.2771\n",
      "Epoch 56/100\n",
      "5/5 [==============================] - 0s 2ms/step - loss: 41.8519 - mae: 41.8519\n",
      "Epoch 57/100\n",
      "5/5 [==============================] - 0s 2ms/step - loss: 40.7903 - mae: 40.7903\n",
      "Epoch 58/100\n",
      "5/5 [==============================] - 0s 2ms/step - loss: 40.3128 - mae: 40.3128\n",
      "Epoch 59/100\n",
      "5/5 [==============================] - 0s 2ms/step - loss: 40.7198 - mae: 40.7198\n",
      "Epoch 60/100\n",
      "5/5 [==============================] - 0s 2ms/step - loss: 40.1478 - mae: 40.1478\n",
      "Epoch 61/100\n",
      "5/5 [==============================] - 0s 2ms/step - loss: 40.1117 - mae: 40.1117\n",
      "Epoch 62/100\n",
      "5/5 [==============================] - 0s 2ms/step - loss: 40.7800 - mae: 40.7800\n",
      "Epoch 63/100\n",
      "5/5 [==============================] - 0s 2ms/step - loss: 39.7242 - mae: 39.7242\n",
      "Epoch 64/100\n",
      "5/5 [==============================] - 0s 1ms/step - loss: 40.1465 - mae: 40.1465\n",
      "Epoch 65/100\n",
      "5/5 [==============================] - 0s 1ms/step - loss: 39.6887 - mae: 39.6887\n",
      "Epoch 66/100\n",
      "5/5 [==============================] - 0s 1ms/step - loss: 40.2840 - mae: 40.2840\n",
      "Epoch 67/100\n",
      "5/5 [==============================] - 0s 2ms/step - loss: 39.5541 - mae: 39.5541\n",
      "Epoch 68/100\n",
      "5/5 [==============================] - 0s 1ms/step - loss: 39.7378 - mae: 39.7378\n",
      "Epoch 69/100\n",
      "5/5 [==============================] - 0s 2ms/step - loss: 39.9784 - mae: 39.9784\n",
      "Epoch 70/100\n",
      "5/5 [==============================] - 0s 1ms/step - loss: 40.0016 - mae: 40.0016\n",
      "Epoch 71/100\n",
      "5/5 [==============================] - 0s 1ms/step - loss: 40.0913 - mae: 40.0913\n",
      "Epoch 72/100\n",
      "5/5 [==============================] - 0s 2ms/step - loss: 39.2547 - mae: 39.2547\n",
      "Epoch 73/100\n",
      "5/5 [==============================] - 0s 1ms/step - loss: 39.6828 - mae: 39.6828\n",
      "Epoch 74/100\n",
      "5/5 [==============================] - 0s 1ms/step - loss: 39.5373 - mae: 39.5373\n",
      "Epoch 75/100\n",
      "5/5 [==============================] - 0s 2ms/step - loss: 39.6265 - mae: 39.6265\n",
      "Epoch 76/100\n",
      "5/5 [==============================] - 0s 1ms/step - loss: 39.3110 - mae: 39.3110\n",
      "Epoch 77/100\n",
      "5/5 [==============================] - 0s 1ms/step - loss: 39.1599 - mae: 39.1599\n",
      "Epoch 78/100\n",
      "5/5 [==============================] - 0s 1ms/step - loss: 39.7550 - mae: 39.7550\n",
      "Epoch 79/100\n",
      "5/5 [==============================] - 0s 1ms/step - loss: 39.2542 - mae: 39.2542\n",
      "Epoch 80/100\n",
      "5/5 [==============================] - 0s 1ms/step - loss: 38.6968 - mae: 38.6968\n",
      "Epoch 81/100\n",
      "5/5 [==============================] - 0s 1ms/step - loss: 39.5442 - mae: 39.5442\n",
      "Epoch 82/100\n",
      "5/5 [==============================] - 0s 1ms/step - loss: 39.8686 - mae: 39.8686\n",
      "Epoch 83/100\n",
      "5/5 [==============================] - 0s 1ms/step - loss: 39.1693 - mae: 39.1693\n",
      "Epoch 84/100\n",
      "5/5 [==============================] - 0s 1ms/step - loss: 38.8840 - mae: 38.8840\n",
      "Epoch 85/100\n",
      "5/5 [==============================] - 0s 1ms/step - loss: 38.8887 - mae: 38.8887\n",
      "Epoch 86/100\n",
      "5/5 [==============================] - 0s 1ms/step - loss: 38.6614 - mae: 38.6614\n",
      "Epoch 87/100\n",
      "5/5 [==============================] - 0s 2ms/step - loss: 38.8399 - mae: 38.8399\n",
      "Epoch 88/100\n",
      "5/5 [==============================] - 0s 1ms/step - loss: 38.6604 - mae: 38.6604\n",
      "Epoch 89/100\n",
      "5/5 [==============================] - 0s 1ms/step - loss: 38.7559 - mae: 38.7559\n",
      "Epoch 90/100\n",
      "5/5 [==============================] - 0s 1ms/step - loss: 38.5442 - mae: 38.5442\n",
      "Epoch 91/100\n",
      "5/5 [==============================] - 0s 1ms/step - loss: 38.3247 - mae: 38.3247\n",
      "Epoch 92/100\n",
      "5/5 [==============================] - 0s 2ms/step - loss: 38.8431 - mae: 38.8431\n",
      "Epoch 93/100\n",
      "5/5 [==============================] - 0s 1ms/step - loss: 39.1137 - mae: 39.1137\n",
      "Epoch 94/100\n",
      "5/5 [==============================] - 0s 1ms/step - loss: 38.1463 - mae: 38.1463\n",
      "Epoch 95/100\n",
      "5/5 [==============================] - 0s 1ms/step - loss: 38.3998 - mae: 38.3998\n",
      "Epoch 96/100\n",
      "5/5 [==============================] - 0s 1ms/step - loss: 38.5599 - mae: 38.5599\n",
      "Epoch 97/100\n",
      "5/5 [==============================] - 0s 1ms/step - loss: 38.1038 - mae: 38.1038\n",
      "Epoch 98/100\n",
      "5/5 [==============================] - 0s 1ms/step - loss: 39.0081 - mae: 39.0081\n",
      "Epoch 99/100\n",
      "5/5 [==============================] - 0s 1ms/step - loss: 38.3056 - mae: 38.3056\n",
      "Epoch 100/100\n",
      "5/5 [==============================] - 0s 1ms/step - loss: 37.9976 - mae: 37.9976\n"
     ]
    },
    {
     "data": {
      "text/plain": [
       "<keras.callbacks.History at 0x28cdde64640>"
      ]
     },
     "execution_count": 61,
     "metadata": {},
     "output_type": "execute_result"
    }
   ],
   "source": [
    "tf.random.set_seed(42)\n",
    "\n",
    "model = tf.keras.Sequential([\n",
    "  tf.keras.layers.Dense(100),\n",
    "  tf.keras.layers.Dense(10),\n",
    "  tf.keras.layers.Dense(1)\n",
    "])\n",
    "\n",
    "\n",
    "model.compile(loss=tf.keras.losses.mae, \n",
    "                optimizer=tf.keras.optimizers.Adam(),\n",
    "                metrics=['mae']) \n",
    "\n",
    "model.fit(tf.expand_dims(X_reg_train, axis=-1), y_reg_train, epochs=100)\n"
   ]
  },
  {
   "cell_type": "code",
   "execution_count": 62,
   "metadata": {},
   "outputs": [
    {
     "data": {
      "text/plain": [
       "<matplotlib.legend.Legend at 0x28cddf786a0>"
      ]
     },
     "execution_count": 62,
     "metadata": {},
     "output_type": "execute_result"
    },
    {
     "data": {
      "image/png": "[encoded data removed]",
      "text/plain": [
       "<Figure size 720x720 with 1 Axes>"
      ]
     },
     "metadata": {
      "needs_background": "light"
     },
     "output_type": "display_data"
    }
   ],
   "source": [
    "y_reg_preds = model.predict(y_reg_test)\n",
    "\n",
    "plt.figure(figsize=(10, 10))\n",
    "plt.scatter(X_reg_train, y_reg_train, c='b', label='Training data')\n",
    "plt.scatter(X_reg_test, y_reg_test, c='g', label='Testing data')\n",
    "plt.scatter(X_reg_test, y_reg_preds.squeeze(), c='r', label='Predictions')\n",
    "plt.legend()"
   ]
  },
  {
   "cell_type": "code",
   "execution_count": 63,
   "metadata": {},
   "outputs": [
    {
     "name": "stdout",
     "output_type": "stream",
     "text": [
      "1/1 [==============================] - 0s 108ms/step - loss: 5.4420 - mae: 5.4420\n"
     ]
    },
    {
     "data": {
      "text/plain": [
       "[5.44201135635376, 5.44201135635376]"
      ]
     },
     "execution_count": 63,
     "metadata": {},
     "output_type": "execute_result"
    }
   ],
   "source": [
    "model.evaluate(x, y1)"
   ]
  },
  {
   "cell_type": "code",
   "execution_count": 64,
   "metadata": {},
   "outputs": [
    {
     "data": {
      "text/plain": [
       "14"
      ]
     },
     "execution_count": 64,
     "metadata": {},
     "output_type": "execute_result"
    }
   ],
   "source": [
    "len(x)"
   ]
  },
  {
   "cell_type": "code",
   "execution_count": 65,
   "metadata": {},
   "outputs": [
    {
     "data": {
      "text/plain": [
       "((14,), (0,))"
      ]
     },
     "execution_count": 65,
     "metadata": {},
     "output_type": "execute_result"
    }
   ],
   "source": [
    "X_train, y_train = x[:80], y1[:80]\n",
    "X_test, y_test = x[80:], y1[80:]\n",
    "\n",
    "X_train.shape, X_test.shape"
   ]
  },
  {
   "cell_type": "code",
   "execution_count": 66,
   "metadata": {},
   "outputs": [
    {
     "name": "stdout",
     "output_type": "stream",
     "text": [
      "Epoch 1/25\n"
     ]
    },
    {
     "name": "stderr",
     "output_type": "stream",
     "text": [
      "C:\\Users\\mrmus\\anaconda3\\lib\\site-packages\\keras\\optimizer_v2\\adam.py:105: UserWarning: The `lr` argument is deprecated, use `learning_rate` instead.\n",
      "  super(Adam, self).__init__(name, **kwargs)\n"
     ]
    },
    {
     "name": "stdout",
     "output_type": "stream",
     "text": [
      "1/1 [==============================] - 0s 387ms/step - loss: 44.1359 - accuracy: 0.0714\n",
      "Epoch 2/25\n",
      "1/1 [==============================] - 0s 3ms/step - loss: 40.6300 - accuracy: 0.0000e+00\n",
      "Epoch 3/25\n",
      "1/1 [==============================] - 0s 3ms/step - loss: 37.2420 - accuracy: 0.0000e+00\n",
      "Epoch 4/25\n",
      "1/1 [==============================] - 0s 3ms/step - loss: 33.9740 - accuracy: 0.0000e+00\n",
      "Epoch 5/25\n",
      "1/1 [==============================] - 0s 3ms/step - loss: 30.8278 - accuracy: 0.0000e+00\n",
      "Epoch 6/25\n",
      "1/1 [==============================] - 0s 2ms/step - loss: 27.8047 - accuracy: 0.0000e+00\n",
      "Epoch 7/25\n",
      "1/1 [==============================] - 0s 2ms/step - loss: 24.9058 - accuracy: 0.0000e+00\n",
      "Epoch 8/25\n",
      "1/1 [==============================] - 0s 2ms/step - loss: 22.1318 - accuracy: 0.0000e+00\n",
      "Epoch 9/25\n",
      "1/1 [==============================] - 0s 3ms/step - loss: 19.4830 - accuracy: 0.0000e+00\n",
      "Epoch 10/25\n",
      "1/1 [==============================] - 0s 3ms/step - loss: 16.9591 - accuracy: 0.0000e+00\n",
      "Epoch 11/25\n",
      "1/1 [==============================] - 0s 3ms/step - loss: 14.5595 - accuracy: 0.0000e+00\n",
      "Epoch 12/25\n",
      "1/1 [==============================] - 0s 3ms/step - loss: 12.2829 - accuracy: 0.0000e+00\n",
      "Epoch 13/25\n",
      "1/1 [==============================] - 0s 3ms/step - loss: 10.1278 - accuracy: 0.0000e+00\n",
      "Epoch 14/25\n",
      "1/1 [==============================] - 0s 2ms/step - loss: 8.0919 - accuracy: 0.0000e+00\n",
      "Epoch 15/25\n",
      "1/1 [==============================] - 0s 5ms/step - loss: 6.1740 - accuracy: 0.0000e+00\n",
      "Epoch 16/25\n",
      "1/1 [==============================] - 0s 3ms/step - loss: 4.3708 - accuracy: 0.0000e+00\n",
      "Epoch 17/25\n",
      "1/1 [==============================] - 0s 3ms/step - loss: 2.6773 - accuracy: 0.0000e+00\n",
      "Epoch 18/25\n",
      "1/1 [==============================] - 0s 2ms/step - loss: 1.0892 - accuracy: 0.0000e+00\n",
      "Epoch 19/25\n",
      "1/1 [==============================] - 0s 4ms/step - loss: -0.3979 - accuracy: 0.0000e+00\n",
      "Epoch 20/25\n",
      "1/1 [==============================] - 0s 3ms/step - loss: -1.7892 - accuracy: 0.0000e+00\n",
      "Epoch 21/25\n",
      "1/1 [==============================] - 0s 3ms/step - loss: -3.0899 - accuracy: 0.0000e+00\n",
      "Epoch 22/25\n",
      "1/1 [==============================] - 0s 3ms/step - loss: -4.2998 - accuracy: 0.0000e+00\n",
      "Epoch 23/25\n",
      "1/1 [==============================] - 0s 3ms/step - loss: -5.4309 - accuracy: 0.0000e+00\n",
      "Epoch 24/25\n",
      "1/1 [==============================] - 0s 3ms/step - loss: -6.4902 - accuracy: 0.0000e+00\n",
      "Epoch 25/25\n",
      "1/1 [==============================] - 0s 3ms/step - loss: -7.4845 - accuracy: 0.0000e+00\n"
     ]
    }
   ],
   "source": [
    "tf.random.set_seed(42)\n",
    "\n",
    "model2 = tf.keras.Sequential([\n",
    "  tf.keras.layers.Dense(4, activation=\"relu\"), \n",
    "  tf.keras.layers.Dense(4, activation=\"relu\"),\n",
    "  tf.keras.layers.Dense(1, activation=\"sigmoid\")\n",
    "])\n",
    "\n",
    "model2.compile(loss=tf.keras.losses.binary_crossentropy,\n",
    "                optimizer=tf.keras.optimizers.Adam(lr=0.01), \n",
    "                metrics=['accuracy'])\n",
    "\n",
    "\n",
    "history = model2.fit(tf.expand_dims(X_train, axis=-1), y_train, epochs=25)"
   ]
  },
  {
   "cell_type": "code",
   "execution_count": 67,
   "metadata": {},
   "outputs": [
    {
     "data": {
      "text/html": [
       "<div>\n",
       "<style scoped>\n",
       "    .dataframe tbody tr th:only-of-type {\n",
       "        vertical-align: middle;\n",
       "    }\n",
       "\n",
       "    .dataframe tbody tr th {\n",
       "        vertical-align: top;\n",
       "    }\n",
       "\n",
       "    .dataframe thead th {\n",
       "        text-align: right;\n",
       "    }\n",
       "</style>\n",
       "<table border=\"1\" class=\"dataframe\">\n",
       "  <thead>\n",
       "    <tr style=\"text-align: right;\">\n",
       "      <th></th>\n",
       "      <th>loss</th>\n",
       "      <th>accuracy</th>\n",
       "    </tr>\n",
       "  </thead>\n",
       "  <tbody>\n",
       "    <tr>\n",
       "      <th>0</th>\n",
       "      <td>44.135864</td>\n",
       "      <td>0.071429</td>\n",
       "    </tr>\n",
       "    <tr>\n",
       "      <th>1</th>\n",
       "      <td>40.629967</td>\n",
       "      <td>0.000000</td>\n",
       "    </tr>\n",
       "    <tr>\n",
       "      <th>2</th>\n",
       "      <td>37.242012</td>\n",
       "      <td>0.000000</td>\n",
       "    </tr>\n",
       "    <tr>\n",
       "      <th>3</th>\n",
       "      <td>33.974022</td>\n",
       "      <td>0.000000</td>\n",
       "    </tr>\n",
       "    <tr>\n",
       "      <th>4</th>\n",
       "      <td>30.827776</td>\n",
       "      <td>0.000000</td>\n",
       "    </tr>\n",
       "    <tr>\n",
       "      <th>5</th>\n",
       "      <td>27.804688</td>\n",
       "      <td>0.000000</td>\n",
       "    </tr>\n",
       "    <tr>\n",
       "      <th>6</th>\n",
       "      <td>24.905811</td>\n",
       "      <td>0.000000</td>\n",
       "    </tr>\n",
       "    <tr>\n",
       "      <th>7</th>\n",
       "      <td>22.131836</td>\n",
       "      <td>0.000000</td>\n",
       "    </tr>\n",
       "    <tr>\n",
       "      <th>8</th>\n",
       "      <td>19.483002</td>\n",
       "      <td>0.000000</td>\n",
       "    </tr>\n",
       "    <tr>\n",
       "      <th>9</th>\n",
       "      <td>16.959110</td>\n",
       "      <td>0.000000</td>\n",
       "    </tr>\n",
       "    <tr>\n",
       "      <th>10</th>\n",
       "      <td>14.559476</td>\n",
       "      <td>0.000000</td>\n",
       "    </tr>\n",
       "    <tr>\n",
       "      <th>11</th>\n",
       "      <td>12.282928</td>\n",
       "      <td>0.000000</td>\n",
       "    </tr>\n",
       "    <tr>\n",
       "      <th>12</th>\n",
       "      <td>10.127791</td>\n",
       "      <td>0.000000</td>\n",
       "    </tr>\n",
       "    <tr>\n",
       "      <th>13</th>\n",
       "      <td>8.091883</td>\n",
       "      <td>0.000000</td>\n",
       "    </tr>\n",
       "    <tr>\n",
       "      <th>14</th>\n",
       "      <td>6.174003</td>\n",
       "      <td>0.000000</td>\n",
       "    </tr>\n",
       "    <tr>\n",
       "      <th>15</th>\n",
       "      <td>4.370805</td>\n",
       "      <td>0.000000</td>\n",
       "    </tr>\n",
       "    <tr>\n",
       "      <th>16</th>\n",
       "      <td>2.677263</td>\n",
       "      <td>0.000000</td>\n",
       "    </tr>\n",
       "    <tr>\n",
       "      <th>17</th>\n",
       "      <td>1.089220</td>\n",
       "      <td>0.000000</td>\n",
       "    </tr>\n",
       "    <tr>\n",
       "      <th>18</th>\n",
       "      <td>-0.397920</td>\n",
       "      <td>0.000000</td>\n",
       "    </tr>\n",
       "    <tr>\n",
       "      <th>19</th>\n",
       "      <td>-1.789160</td>\n",
       "      <td>0.000000</td>\n",
       "    </tr>\n",
       "    <tr>\n",
       "      <th>20</th>\n",
       "      <td>-3.089909</td>\n",
       "      <td>0.000000</td>\n",
       "    </tr>\n",
       "    <tr>\n",
       "      <th>21</th>\n",
       "      <td>-4.299810</td>\n",
       "      <td>0.000000</td>\n",
       "    </tr>\n",
       "    <tr>\n",
       "      <th>22</th>\n",
       "      <td>-5.430879</td>\n",
       "      <td>0.000000</td>\n",
       "    </tr>\n",
       "    <tr>\n",
       "      <th>23</th>\n",
       "      <td>-6.490156</td>\n",
       "      <td>0.000000</td>\n",
       "    </tr>\n",
       "    <tr>\n",
       "      <th>24</th>\n",
       "      <td>-7.484530</td>\n",
       "      <td>0.000000</td>\n",
       "    </tr>\n",
       "  </tbody>\n",
       "</table>\n",
       "</div>"
      ],
      "text/plain": [
       "         loss  accuracy\n",
       "0   44.135864  0.071429\n",
       "1   40.629967  0.000000\n",
       "2   37.242012  0.000000\n",
       "3   33.974022  0.000000\n",
       "4   30.827776  0.000000\n",
       "5   27.804688  0.000000\n",
       "6   24.905811  0.000000\n",
       "7   22.131836  0.000000\n",
       "8   19.483002  0.000000\n",
       "9   16.959110  0.000000\n",
       "10  14.559476  0.000000\n",
       "11  12.282928  0.000000\n",
       "12  10.127791  0.000000\n",
       "13   8.091883  0.000000\n",
       "14   6.174003  0.000000\n",
       "15   4.370805  0.000000\n",
       "16   2.677263  0.000000\n",
       "17   1.089220  0.000000\n",
       "18  -0.397920  0.000000\n",
       "19  -1.789160  0.000000\n",
       "20  -3.089909  0.000000\n",
       "21  -4.299810  0.000000\n",
       "22  -5.430879  0.000000\n",
       "23  -6.490156  0.000000\n",
       "24  -7.484530  0.000000"
      ]
     },
     "execution_count": 67,
     "metadata": {},
     "output_type": "execute_result"
    }
   ],
   "source": [
    "pd.DataFrame(history.history)"
   ]
  },
  {
   "cell_type": "code",
   "execution_count": 68,
   "metadata": {},
   "outputs": [
    {
     "data": {
      "text/plain": [
       "Text(0.5, 1.0, 'Model_2 training curves')"
      ]
     },
     "execution_count": 68,
     "metadata": {},
     "output_type": "execute_result"
    },
    {
     "data": {
      "image/png": "[encoded data removed]",
      "text/plain": [
       "<Figure size 432x288 with 1 Axes>"
      ]
     },
     "metadata": {
      "needs_background": "light"
     },
     "output_type": "display_data"
    }
   ],
   "source": [
    "pd.DataFrame(history.history).plot()\n",
    "plt.title(\"Model_2 training curves\")"
   ]
  },
  {
   "cell_type": "markdown",
   "metadata": {},
   "source": [
    "### Регресія"
   ]
  },
  {
   "cell_type": "code",
   "execution_count": 69,
   "metadata": {},
   "outputs": [
    {
     "name": "stdout",
     "output_type": "stream",
     "text": [
      "Epoch 1/80\n",
      "1/1 [==============================] - 0s 242ms/step - loss: 9.0669 - mae: 9.0669\n",
      "Epoch 2/80\n",
      "1/1 [==============================] - 0s 3ms/step - loss: 8.1083 - mae: 8.1083\n",
      "Epoch 3/80\n",
      "1/1 [==============================] - 0s 3ms/step - loss: 7.1504 - mae: 7.1504\n",
      "Epoch 4/80\n",
      "1/1 [==============================] - 0s 3ms/step - loss: 6.1924 - mae: 6.1924\n",
      "Epoch 5/80\n",
      "1/1 [==============================] - 0s 2ms/step - loss: 5.2344 - mae: 5.2344\n",
      "Epoch 6/80\n",
      "1/1 [==============================] - 0s 3ms/step - loss: 4.2764 - mae: 4.2764\n",
      "Epoch 7/80\n",
      "1/1 [==============================] - 0s 3ms/step - loss: 3.3185 - mae: 3.3185\n",
      "Epoch 8/80\n",
      "1/1 [==============================] - 0s 3ms/step - loss: 2.3605 - mae: 2.3605\n",
      "Epoch 9/80\n",
      "1/1 [==============================] - 0s 3ms/step - loss: 1.4025 - mae: 1.4025\n",
      "Epoch 10/80\n",
      "1/1 [==============================] - 0s 3ms/step - loss: 0.4446 - mae: 0.4446\n",
      "Epoch 11/80\n",
      "1/1 [==============================] - 0s 3ms/step - loss: 0.5258 - mae: 0.5258\n",
      "Epoch 12/80\n",
      "1/1 [==============================] - 0s 3ms/step - loss: 0.4458 - mae: 0.4458\n",
      "Epoch 13/80\n",
      "1/1 [==============================] - 0s 3ms/step - loss: 0.5243 - mae: 0.5243\n",
      "Epoch 14/80\n",
      "1/1 [==============================] - 0s 4ms/step - loss: 0.4470 - mae: 0.4470\n",
      "Epoch 15/80\n",
      "1/1 [==============================] - 0s 3ms/step - loss: 0.5229 - mae: 0.5229\n",
      "Epoch 16/80\n",
      "1/1 [==============================] - 0s 2ms/step - loss: 0.4482 - mae: 0.4482\n",
      "Epoch 17/80\n",
      "1/1 [==============================] - 0s 2ms/step - loss: 0.5215 - mae: 0.5215\n",
      "Epoch 18/80\n",
      "1/1 [==============================] - 0s 3ms/step - loss: 0.4495 - mae: 0.4495\n",
      "Epoch 19/80\n",
      "1/1 [==============================] - 0s 2ms/step - loss: 0.5200 - mae: 0.5200\n",
      "Epoch 20/80\n",
      "1/1 [==============================] - 0s 3ms/step - loss: 0.4507 - mae: 0.4507\n",
      "Epoch 21/80\n",
      "1/1 [==============================] - 0s 3ms/step - loss: 0.5186 - mae: 0.5186\n",
      "Epoch 22/80\n",
      "1/1 [==============================] - 0s 2ms/step - loss: 0.4519 - mae: 0.4519\n",
      "Epoch 23/80\n",
      "1/1 [==============================] - 0s 3ms/step - loss: 0.5172 - mae: 0.5172\n",
      "Epoch 24/80\n",
      "1/1 [==============================] - 0s 2ms/step - loss: 0.4531 - mae: 0.4531\n",
      "Epoch 25/80\n",
      "1/1 [==============================] - 0s 2ms/step - loss: 0.5158 - mae: 0.5158\n",
      "Epoch 26/80\n",
      "1/1 [==============================] - 0s 2ms/step - loss: 0.4544 - mae: 0.4544\n",
      "Epoch 27/80\n",
      "1/1 [==============================] - 0s 2ms/step - loss: 0.5143 - mae: 0.5143\n",
      "Epoch 28/80\n",
      "1/1 [==============================] - 0s 2ms/step - loss: 0.4556 - mae: 0.4556\n",
      "Epoch 29/80\n",
      "1/1 [==============================] - 0s 3ms/step - loss: 0.5129 - mae: 0.5129\n",
      "Epoch 30/80\n",
      "1/1 [==============================] - 0s 2ms/step - loss: 0.4568 - mae: 0.4568\n",
      "Epoch 31/80\n",
      "1/1 [==============================] - 0s 1ms/step - loss: 0.5115 - mae: 0.5115\n",
      "Epoch 32/80\n",
      "1/1 [==============================] - 0s 2ms/step - loss: 0.4580 - mae: 0.4580\n",
      "Epoch 33/80\n",
      "1/1 [==============================] - 0s 3ms/step - loss: 0.5100 - mae: 0.5100\n",
      "Epoch 34/80\n",
      "1/1 [==============================] - 0s 3ms/step - loss: 0.4593 - mae: 0.4593\n",
      "Epoch 35/80\n",
      "1/1 [==============================] - 0s 2ms/step - loss: 0.5086 - mae: 0.5086\n",
      "Epoch 36/80\n",
      "1/1 [==============================] - 0s 5ms/step - loss: 0.4605 - mae: 0.4605\n",
      "Epoch 37/80\n",
      "1/1 [==============================] - 0s 4ms/step - loss: 0.5072 - mae: 0.5072\n",
      "Epoch 38/80\n",
      "1/1 [==============================] - 0s 2ms/step - loss: 0.4617 - mae: 0.4617\n",
      "Epoch 39/80\n",
      "1/1 [==============================] - 0s 3ms/step - loss: 0.5058 - mae: 0.5058\n",
      "Epoch 40/80\n",
      "1/1 [==============================] - 0s 2ms/step - loss: 0.4629 - mae: 0.4629\n",
      "Epoch 41/80\n",
      "1/1 [==============================] - 0s 3ms/step - loss: 0.5043 - mae: 0.5043\n",
      "Epoch 42/80\n",
      "1/1 [==============================] - 0s 2ms/step - loss: 0.4641 - mae: 0.4641\n",
      "Epoch 43/80\n",
      "1/1 [==============================] - 0s 2ms/step - loss: 0.5029 - mae: 0.5029\n",
      "Epoch 44/80\n",
      "1/1 [==============================] - 0s 3ms/step - loss: 0.4654 - mae: 0.4654\n",
      "Epoch 45/80\n",
      "1/1 [==============================] - 0s 2ms/step - loss: 0.5015 - mae: 0.5015\n",
      "Epoch 46/80\n",
      "1/1 [==============================] - 0s 3ms/step - loss: 0.4666 - mae: 0.4666\n",
      "Epoch 47/80\n",
      "1/1 [==============================] - 0s 2ms/step - loss: 0.5000 - mae: 0.5000\n",
      "Epoch 48/80\n",
      "1/1 [==============================] - 0s 2ms/step - loss: 0.4678 - mae: 0.4678\n",
      "Epoch 49/80\n",
      "1/1 [==============================] - 0s 2ms/step - loss: 0.4986 - mae: 0.4986\n",
      "Epoch 50/80\n",
      "1/1 [==============================] - 0s 2ms/step - loss: 0.4690 - mae: 0.4690\n",
      "Epoch 51/80\n",
      "1/1 [==============================] - 0s 3ms/step - loss: 0.4972 - mae: 0.4972\n",
      "Epoch 52/80\n",
      "1/1 [==============================] - 0s 3ms/step - loss: 0.4703 - mae: 0.4703\n",
      "Epoch 53/80\n",
      "1/1 [==============================] - 0s 3ms/step - loss: 0.4958 - mae: 0.4958\n",
      "Epoch 54/80\n",
      "1/1 [==============================] - 0s 2ms/step - loss: 0.4715 - mae: 0.4715\n",
      "Epoch 55/80\n",
      "1/1 [==============================] - 0s 3ms/step - loss: 0.4943 - mae: 0.4943\n",
      "Epoch 56/80\n",
      "1/1 [==============================] - 0s 3ms/step - loss: 0.4727 - mae: 0.4727\n",
      "Epoch 57/80\n",
      "1/1 [==============================] - 0s 3ms/step - loss: 0.4929 - mae: 0.4929\n",
      "Epoch 58/80\n",
      "1/1 [==============================] - 0s 5ms/step - loss: 0.4739 - mae: 0.4739\n",
      "Epoch 59/80\n",
      "1/1 [==============================] - 0s 3ms/step - loss: 0.4915 - mae: 0.4915\n",
      "Epoch 60/80\n",
      "1/1 [==============================] - 0s 3ms/step - loss: 0.4752 - mae: 0.4752\n",
      "Epoch 61/80\n",
      "1/1 [==============================] - 0s 3ms/step - loss: 0.4900 - mae: 0.4900\n",
      "Epoch 62/80\n",
      "1/1 [==============================] - 0s 3ms/step - loss: 0.4764 - mae: 0.4764\n",
      "Epoch 63/80\n",
      "1/1 [==============================] - 0s 3ms/step - loss: 0.4886 - mae: 0.4886\n",
      "Epoch 64/80\n",
      "1/1 [==============================] - 0s 2ms/step - loss: 0.4776 - mae: 0.4776\n",
      "Epoch 65/80\n",
      "1/1 [==============================] - 0s 3ms/step - loss: 0.4872 - mae: 0.4872\n",
      "Epoch 66/80\n",
      "1/1 [==============================] - 0s 2ms/step - loss: 0.4788 - mae: 0.4788\n",
      "Epoch 67/80\n",
      "1/1 [==============================] - 0s 2ms/step - loss: 0.4858 - mae: 0.4858\n",
      "Epoch 68/80\n",
      "1/1 [==============================] - 0s 3ms/step - loss: 0.4801 - mae: 0.4801\n",
      "Epoch 69/80\n",
      "1/1 [==============================] - 0s 2ms/step - loss: 0.4843 - mae: 0.4843\n",
      "Epoch 70/80\n",
      "1/1 [==============================] - 0s 2ms/step - loss: 0.4813 - mae: 0.4813\n",
      "Epoch 71/80\n",
      "1/1 [==============================] - 0s 3ms/step - loss: 0.4829 - mae: 0.4829\n",
      "Epoch 72/80\n",
      "1/1 [==============================] - 0s 3ms/step - loss: 0.4825 - mae: 0.4825\n",
      "Epoch 73/80\n",
      "1/1 [==============================] - 0s 3ms/step - loss: 0.4815 - mae: 0.4815\n",
      "Epoch 74/80\n",
      "1/1 [==============================] - 0s 4ms/step - loss: 0.4837 - mae: 0.4837\n",
      "Epoch 75/80\n",
      "1/1 [==============================] - 0s 3ms/step - loss: 0.4800 - mae: 0.4800\n",
      "Epoch 76/80\n",
      "1/1 [==============================] - 0s 2ms/step - loss: 0.4850 - mae: 0.4850\n",
      "Epoch 77/80\n",
      "1/1 [==============================] - 0s 2ms/step - loss: 0.4786 - mae: 0.4786\n",
      "Epoch 78/80\n",
      "1/1 [==============================] - 0s 2ms/step - loss: 0.4862 - mae: 0.4862\n",
      "Epoch 79/80\n",
      "1/1 [==============================] - 0s 3ms/step - loss: 0.4772 - mae: 0.4772\n",
      "Epoch 80/80\n",
      "1/1 [==============================] - 0s 2ms/step - loss: 0.4874 - mae: 0.4874\n"
     ]
    },
    {
     "data": {
      "text/plain": [
       "<keras.callbacks.History at 0x28cdf368250>"
      ]
     },
     "execution_count": 69,
     "metadata": {},
     "output_type": "execute_result"
    }
   ],
   "source": [
    "input_shape = x[0].shape \n",
    "output_shape = y1[0].shape\n",
    "input_shape, output_shape \n",
    "\n",
    "tf.random.set_seed(42)\n",
    "\n",
    "modelreg = tf.keras.Sequential([\n",
    "  tf.keras.layers.Dense(1)\n",
    "])\n",
    "\n",
    "modelreg.compile(loss=tf.keras.losses.mae,\n",
    "              optimizer=tf.keras.optimizers.SGD(),\n",
    "              metrics=[\"mae\"])\n",
    "\n",
    "modelreg.fit(tf.expand_dims(x, axis=-1), y1, epochs=80)"
   ]
  },
  {
   "cell_type": "code",
   "execution_count": 70,
   "metadata": {},
   "outputs": [
    {
     "data": {
      "text/plain": [
       "(14, 0)"
      ]
     },
     "execution_count": 70,
     "metadata": {},
     "output_type": "execute_result"
    }
   ],
   "source": [
    "X_train = x[:80]\n",
    "y_train = y1[:80]\n",
    "\n",
    "X_test = x[80:] \n",
    "y_test = y1[80:]\n",
    "\n",
    "len(X_train), len(X_test)"
   ]
  },
  {
   "cell_type": "code",
   "execution_count": 71,
   "metadata": {},
   "outputs": [
    {
     "data": {
      "text/plain": [
       "<matplotlib.legend.Legend at 0x28cdf41ceb0>"
      ]
     },
     "execution_count": 71,
     "metadata": {},
     "output_type": "execute_result"
    },
    {
     "data": {
      "image/png": "[encoded data removed]",
      "text/plain": [
       "<Figure size 1080x720 with 1 Axes>"
      ]
     },
     "metadata": {
      "needs_background": "light"
     },
     "output_type": "display_data"
    }
   ],
   "source": [
    "plt.figure(figsize=(15, 10))\n",
    "plt.scatter(X_train, y_train, c='b', label='Training data')\n",
    "plt.scatter(X_test, y_test, c='g', label='Testing data')\n",
    "plt.legend()"
   ]
  },
  {
   "cell_type": "code",
   "execution_count": 72,
   "metadata": {},
   "outputs": [
    {
     "name": "stdout",
     "output_type": "stream",
     "text": [
      "Model: \"sequential_10\"\n",
      "_________________________________________________________________\n",
      " Layer (type)                Output Shape              Param #   \n",
      "=================================================================\n",
      " dense_28 (Dense)            (None, 1)                 2         \n",
      "                                                                 \n",
      "=================================================================\n",
      "Total params: 2\n",
      "Trainable params: 2\n",
      "Non-trainable params: 0\n",
      "_________________________________________________________________\n"
     ]
    }
   ],
   "source": [
    "modelreg.summary()"
   ]
  },
  {
   "cell_type": "code",
   "execution_count": 73,
   "metadata": {},
   "outputs": [
    {
     "data": {
      "text/plain": [
       "<keras.callbacks.History at 0x28cdf45ae20>"
      ]
     },
     "execution_count": 73,
     "metadata": {},
     "output_type": "execute_result"
    }
   ],
   "source": [
    "modelreg.fit(X_train, y_train, epochs=80, verbose=0)"
   ]
  },
  {
   "cell_type": "code",
   "execution_count": 75,
   "metadata": {},
   "outputs": [
    {
     "data": {
      "text/plain": [
       "array([[46.36108]], dtype=float32)"
      ]
     },
     "execution_count": 75,
     "metadata": {},
     "output_type": "execute_result"
    }
   ],
   "source": [
    "modelreg.predict([30.0])"
   ]
  }
 ],
 "metadata": {
  "interpreter": {
   "hash": "75cd0ae9ecbec3ab72299e27db8b610059db44a2f7a4c5d8b808971e07cf7af1"
  },
  "kernelspec": {
   "display_name": "Python 3.8.8 64-bit ('base': conda)",
   "name": "python3"
  },
  "language_info": {
   "codemirror_mode": {
    "name": "ipython",
    "version": 3
   },
   "file_extension": ".py",
   "mimetype": "text/x-python",
   "name": "python",
   "nbconvert_exporter": "python",
   "pygments_lexer": "ipython3",
   "version": "3.8.8"
  },
  "orig_nbformat": 4
 },
 "nbformat": 4,
 "nbformat_minor": 2
}
