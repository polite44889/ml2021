{
 "cells": [
  {
   "cell_type": "markdown",
   "source": [
    "# Лабраторна робота 2 \r\n",
    "## Студента групи МІТ-21 \r\n",
    "### Ярощука Назара Юрійовича "
   ],
   "metadata": {}
  },
  {
   "cell_type": "markdown",
   "source": [
    "1. Створити набір даних за допомогою DatasetGenerator"
   ],
   "metadata": {}
  },
  {
   "cell_type": "code",
   "execution_count": 516,
   "source": [
    "import numpy as np\r\n",
    "import pandas as pd\r\n",
    "import sklearn\r\n",
    "from sklearn.model_selection import train_test_split\r\n",
    "from sklearn import datasets\r\n",
    "import seaborn as sns\r\n",
    "import matplotlib.pyplot as plt\r\n",
    "import random as rnd\r\n",
    "x, y, coef = datasets.make_regression(n_samples = 10 , n_features = 10 , n_informative = 10 , noise = 0.2, coef=True)\r\n",
    "df1 = pd.DataFrame(x, y)\r\n",
    "df1.to_csv(\"datasetGenerator.csv\")\r\n",
    "df1.head()\r\n",
    "\r\n"
   ],
   "outputs": [
    {
     "output_type": "execute_result",
     "data": {
      "text/html": [
       "<div>\n",
       "<style scoped>\n",
       "    .dataframe tbody tr th:only-of-type {\n",
       "        vertical-align: middle;\n",
       "    }\n",
       "\n",
       "    .dataframe tbody tr th {\n",
       "        vertical-align: top;\n",
       "    }\n",
       "\n",
       "    .dataframe thead th {\n",
       "        text-align: right;\n",
       "    }\n",
       "</style>\n",
       "<table border=\"1\" class=\"dataframe\">\n",
       "  <thead>\n",
       "    <tr style=\"text-align: right;\">\n",
       "      <th></th>\n",
       "      <th>0</th>\n",
       "      <th>1</th>\n",
       "      <th>2</th>\n",
       "      <th>3</th>\n",
       "      <th>4</th>\n",
       "      <th>5</th>\n",
       "      <th>6</th>\n",
       "      <th>7</th>\n",
       "      <th>8</th>\n",
       "      <th>9</th>\n",
       "    </tr>\n",
       "  </thead>\n",
       "  <tbody>\n",
       "    <tr>\n",
       "      <th>0.228296</th>\n",
       "      <td>1.705445</td>\n",
       "      <td>0.996648</td>\n",
       "      <td>0.473952</td>\n",
       "      <td>0.081018</td>\n",
       "      <td>0.351806</td>\n",
       "      <td>-0.944538</td>\n",
       "      <td>1.097494</td>\n",
       "      <td>-1.371796</td>\n",
       "      <td>0.216732</td>\n",
       "      <td>-0.198334</td>\n",
       "    </tr>\n",
       "    <tr>\n",
       "      <th>135.181317</th>\n",
       "      <td>1.727778</td>\n",
       "      <td>1.127710</td>\n",
       "      <td>-0.729623</td>\n",
       "      <td>-0.189741</td>\n",
       "      <td>0.497246</td>\n",
       "      <td>0.036957</td>\n",
       "      <td>0.553711</td>\n",
       "      <td>-0.183250</td>\n",
       "      <td>0.635392</td>\n",
       "      <td>0.058924</td>\n",
       "    </tr>\n",
       "    <tr>\n",
       "      <th>-101.518600</th>\n",
       "      <td>1.957878</td>\n",
       "      <td>-0.724666</td>\n",
       "      <td>-0.070163</td>\n",
       "      <td>-0.728318</td>\n",
       "      <td>1.038914</td>\n",
       "      <td>-0.019839</td>\n",
       "      <td>-0.634807</td>\n",
       "      <td>-1.509736</td>\n",
       "      <td>0.021235</td>\n",
       "      <td>1.682468</td>\n",
       "    </tr>\n",
       "    <tr>\n",
       "      <th>168.875417</th>\n",
       "      <td>0.295939</td>\n",
       "      <td>-0.194090</td>\n",
       "      <td>0.543032</td>\n",
       "      <td>0.996592</td>\n",
       "      <td>-0.404995</td>\n",
       "      <td>-1.858904</td>\n",
       "      <td>-0.594140</td>\n",
       "      <td>2.565272</td>\n",
       "      <td>0.606406</td>\n",
       "      <td>-2.066742</td>\n",
       "    </tr>\n",
       "    <tr>\n",
       "      <th>-27.093873</th>\n",
       "      <td>1.027338</td>\n",
       "      <td>-1.287576</td>\n",
       "      <td>-0.720149</td>\n",
       "      <td>0.674434</td>\n",
       "      <td>1.353508</td>\n",
       "      <td>-0.877699</td>\n",
       "      <td>-1.305080</td>\n",
       "      <td>0.189273</td>\n",
       "      <td>-0.858660</td>\n",
       "      <td>1.463149</td>\n",
       "    </tr>\n",
       "  </tbody>\n",
       "</table>\n",
       "</div>"
      ],
      "text/plain": [
       "                    0         1         2         3         4         5  \\\n",
       " 0.228296    1.705445  0.996648  0.473952  0.081018  0.351806 -0.944538   \n",
       " 135.181317  1.727778  1.127710 -0.729623 -0.189741  0.497246  0.036957   \n",
       "-101.518600  1.957878 -0.724666 -0.070163 -0.728318  1.038914 -0.019839   \n",
       " 168.875417  0.295939 -0.194090  0.543032  0.996592 -0.404995 -1.858904   \n",
       "-27.093873   1.027338 -1.287576 -0.720149  0.674434  1.353508 -0.877699   \n",
       "\n",
       "                    6         7         8         9  \n",
       " 0.228296    1.097494 -1.371796  0.216732 -0.198334  \n",
       " 135.181317  0.553711 -0.183250  0.635392  0.058924  \n",
       "-101.518600 -0.634807 -1.509736  0.021235  1.682468  \n",
       " 168.875417 -0.594140  2.565272  0.606406 -2.066742  \n",
       "-27.093873  -1.305080  0.189273 -0.858660  1.463149  "
      ]
     },
     "metadata": {},
     "execution_count": 516
    }
   ],
   "metadata": {}
  },
  {
   "cell_type": "markdown",
   "source": [
    "Для отриманих наборів даних провести встановленні кроки моделювання."
   ],
   "metadata": {}
  },
  {
   "cell_type": "code",
   "execution_count": 517,
   "source": [
    "df1.info()"
   ],
   "outputs": [
    {
     "output_type": "stream",
     "name": "stdout",
     "text": [
      "<class 'pandas.core.frame.DataFrame'>\n",
      "Float64Index: 10 entries, 0.22829626476094564 to 82.35588257331223\n",
      "Data columns (total 10 columns):\n",
      " #   Column  Non-Null Count  Dtype  \n",
      "---  ------  --------------  -----  \n",
      " 0   0       10 non-null     float64\n",
      " 1   1       10 non-null     float64\n",
      " 2   2       10 non-null     float64\n",
      " 3   3       10 non-null     float64\n",
      " 4   4       10 non-null     float64\n",
      " 5   5       10 non-null     float64\n",
      " 6   6       10 non-null     float64\n",
      " 7   7       10 non-null     float64\n",
      " 8   8       10 non-null     float64\n",
      " 9   9       10 non-null     float64\n",
      "dtypes: float64(10)\n",
      "memory usage: 880.0 bytes\n"
     ]
    }
   ],
   "metadata": {}
  },
  {
   "cell_type": "code",
   "execution_count": 518,
   "source": [
    "df1.describe()"
   ],
   "outputs": [
    {
     "output_type": "execute_result",
     "data": {
      "text/html": [
       "<div>\n",
       "<style scoped>\n",
       "    .dataframe tbody tr th:only-of-type {\n",
       "        vertical-align: middle;\n",
       "    }\n",
       "\n",
       "    .dataframe tbody tr th {\n",
       "        vertical-align: top;\n",
       "    }\n",
       "\n",
       "    .dataframe thead th {\n",
       "        text-align: right;\n",
       "    }\n",
       "</style>\n",
       "<table border=\"1\" class=\"dataframe\">\n",
       "  <thead>\n",
       "    <tr style=\"text-align: right;\">\n",
       "      <th></th>\n",
       "      <th>0</th>\n",
       "      <th>1</th>\n",
       "      <th>2</th>\n",
       "      <th>3</th>\n",
       "      <th>4</th>\n",
       "      <th>5</th>\n",
       "      <th>6</th>\n",
       "      <th>7</th>\n",
       "      <th>8</th>\n",
       "      <th>9</th>\n",
       "    </tr>\n",
       "  </thead>\n",
       "  <tbody>\n",
       "    <tr>\n",
       "      <th>count</th>\n",
       "      <td>10.000000</td>\n",
       "      <td>10.000000</td>\n",
       "      <td>10.000000</td>\n",
       "      <td>10.000000</td>\n",
       "      <td>10.000000</td>\n",
       "      <td>10.000000</td>\n",
       "      <td>10.000000</td>\n",
       "      <td>10.000000</td>\n",
       "      <td>10.000000</td>\n",
       "      <td>10.000000</td>\n",
       "    </tr>\n",
       "    <tr>\n",
       "      <th>mean</th>\n",
       "      <td>0.962796</td>\n",
       "      <td>-0.045348</td>\n",
       "      <td>-0.014124</td>\n",
       "      <td>0.533725</td>\n",
       "      <td>0.348255</td>\n",
       "      <td>-0.171557</td>\n",
       "      <td>0.052082</td>\n",
       "      <td>-0.005516</td>\n",
       "      <td>-0.018404</td>\n",
       "      <td>0.129237</td>\n",
       "    </tr>\n",
       "    <tr>\n",
       "      <th>std</th>\n",
       "      <td>0.942700</td>\n",
       "      <td>0.729726</td>\n",
       "      <td>0.614928</td>\n",
       "      <td>0.829717</td>\n",
       "      <td>0.832776</td>\n",
       "      <td>1.216298</td>\n",
       "      <td>0.860323</td>\n",
       "      <td>1.143607</td>\n",
       "      <td>0.938777</td>\n",
       "      <td>1.086880</td>\n",
       "    </tr>\n",
       "    <tr>\n",
       "      <th>min</th>\n",
       "      <td>-1.045099</td>\n",
       "      <td>-1.287576</td>\n",
       "      <td>-0.729623</td>\n",
       "      <td>-0.728318</td>\n",
       "      <td>-1.089107</td>\n",
       "      <td>-1.858904</td>\n",
       "      <td>-1.305080</td>\n",
       "      <td>-1.509736</td>\n",
       "      <td>-1.918268</td>\n",
       "      <td>-2.066742</td>\n",
       "    </tr>\n",
       "    <tr>\n",
       "      <th>25%</th>\n",
       "      <td>0.374723</td>\n",
       "      <td>-0.258269</td>\n",
       "      <td>-0.480082</td>\n",
       "      <td>-0.048341</td>\n",
       "      <td>-0.215795</td>\n",
       "      <td>-0.944627</td>\n",
       "      <td>-0.624640</td>\n",
       "      <td>-0.429726</td>\n",
       "      <td>-0.638686</td>\n",
       "      <td>-0.188793</td>\n",
       "    </tr>\n",
       "    <tr>\n",
       "      <th>50%</th>\n",
       "      <td>1.123202</td>\n",
       "      <td>-0.173039</td>\n",
       "      <td>-0.059179</td>\n",
       "      <td>0.488108</td>\n",
       "      <td>0.595148</td>\n",
       "      <td>-0.448769</td>\n",
       "      <td>0.060251</td>\n",
       "      <td>-0.111891</td>\n",
       "      <td>0.223661</td>\n",
       "      <td>0.062188</td>\n",
       "    </tr>\n",
       "    <tr>\n",
       "      <th>75%</th>\n",
       "      <td>1.722195</td>\n",
       "      <td>0.274161</td>\n",
       "      <td>0.348128</td>\n",
       "      <td>0.936922</td>\n",
       "      <td>0.955798</td>\n",
       "      <td>0.299610</td>\n",
       "      <td>0.585190</td>\n",
       "      <td>0.332084</td>\n",
       "      <td>0.628146</td>\n",
       "      <td>0.722993</td>\n",
       "    </tr>\n",
       "    <tr>\n",
       "      <th>max</th>\n",
       "      <td>1.957878</td>\n",
       "      <td>1.127710</td>\n",
       "      <td>1.207422</td>\n",
       "      <td>1.992618</td>\n",
       "      <td>1.353508</td>\n",
       "      <td>2.235617</td>\n",
       "      <td>1.359482</td>\n",
       "      <td>2.565272</td>\n",
       "      <td>0.933645</td>\n",
       "      <td>1.682468</td>\n",
       "    </tr>\n",
       "  </tbody>\n",
       "</table>\n",
       "</div>"
      ],
      "text/plain": [
       "               0          1          2          3          4          5  \\\n",
       "count  10.000000  10.000000  10.000000  10.000000  10.000000  10.000000   \n",
       "mean    0.962796  -0.045348  -0.014124   0.533725   0.348255  -0.171557   \n",
       "std     0.942700   0.729726   0.614928   0.829717   0.832776   1.216298   \n",
       "min    -1.045099  -1.287576  -0.729623  -0.728318  -1.089107  -1.858904   \n",
       "25%     0.374723  -0.258269  -0.480082  -0.048341  -0.215795  -0.944627   \n",
       "50%     1.123202  -0.173039  -0.059179   0.488108   0.595148  -0.448769   \n",
       "75%     1.722195   0.274161   0.348128   0.936922   0.955798   0.299610   \n",
       "max     1.957878   1.127710   1.207422   1.992618   1.353508   2.235617   \n",
       "\n",
       "               6          7          8          9  \n",
       "count  10.000000  10.000000  10.000000  10.000000  \n",
       "mean    0.052082  -0.005516  -0.018404   0.129237  \n",
       "std     0.860323   1.143607   0.938777   1.086880  \n",
       "min    -1.305080  -1.509736  -1.918268  -2.066742  \n",
       "25%    -0.624640  -0.429726  -0.638686  -0.188793  \n",
       "50%     0.060251  -0.111891   0.223661   0.062188  \n",
       "75%     0.585190   0.332084   0.628146   0.722993  \n",
       "max     1.359482   2.565272   0.933645   1.682468  "
      ]
     },
     "metadata": {},
     "execution_count": 518
    }
   ],
   "metadata": {}
  },
  {
   "cell_type": "code",
   "execution_count": 519,
   "source": [
    "corr = df1.corr()\r\n",
    "sns.heatmap(corr, cmap=\"rainbow\")"
   ],
   "outputs": [
    {
     "output_type": "execute_result",
     "data": {
      "text/plain": [
       "<AxesSubplot:>"
      ]
     },
     "metadata": {},
     "execution_count": 519
    },
    {
     "output_type": "display_data",
     "data": {
      "image/png": "[encoded data removed]",
      "text/plain": [
       "<Figure size 432x288 with 2 Axes>"
      ]
     },
     "metadata": {
      "needs_background": "light"
     }
    }
   ],
   "metadata": {}
  },
  {
   "cell_type": "markdown",
   "source": [
    "Завантажити набір даних для регресії на сайті (у кожного студента має бути інший - прошу організуватись відповідним чином)"
   ],
   "metadata": {}
  },
  {
   "cell_type": "code",
   "execution_count": 520,
   "source": [
    "df2=pd.read_csv(\"water_potability.csv\")\r\n",
    "df2.head()"
   ],
   "outputs": [
    {
     "output_type": "execute_result",
     "data": {
      "text/html": [
       "<div>\n",
       "<style scoped>\n",
       "    .dataframe tbody tr th:only-of-type {\n",
       "        vertical-align: middle;\n",
       "    }\n",
       "\n",
       "    .dataframe tbody tr th {\n",
       "        vertical-align: top;\n",
       "    }\n",
       "\n",
       "    .dataframe thead th {\n",
       "        text-align: right;\n",
       "    }\n",
       "</style>\n",
       "<table border=\"1\" class=\"dataframe\">\n",
       "  <thead>\n",
       "    <tr style=\"text-align: right;\">\n",
       "      <th></th>\n",
       "      <th>ph</th>\n",
       "      <th>Hardness</th>\n",
       "      <th>Solids</th>\n",
       "      <th>Chloramines</th>\n",
       "      <th>Sulfate</th>\n",
       "      <th>Conductivity</th>\n",
       "      <th>Organic_carbon</th>\n",
       "      <th>Trihalomethanes</th>\n",
       "      <th>Turbidity</th>\n",
       "      <th>Potability</th>\n",
       "    </tr>\n",
       "  </thead>\n",
       "  <tbody>\n",
       "    <tr>\n",
       "      <th>0</th>\n",
       "      <td>1.000000</td>\n",
       "      <td>204.890455</td>\n",
       "      <td>20791.318981</td>\n",
       "      <td>7.300212</td>\n",
       "      <td>368.516441</td>\n",
       "      <td>564.308654</td>\n",
       "      <td>10.379783</td>\n",
       "      <td>86.990970</td>\n",
       "      <td>2.963135</td>\n",
       "      <td>0</td>\n",
       "    </tr>\n",
       "    <tr>\n",
       "      <th>1</th>\n",
       "      <td>3.716080</td>\n",
       "      <td>129.422921</td>\n",
       "      <td>18630.057858</td>\n",
       "      <td>6.635246</td>\n",
       "      <td>303.000000</td>\n",
       "      <td>592.885359</td>\n",
       "      <td>15.180013</td>\n",
       "      <td>56.329076</td>\n",
       "      <td>4.500656</td>\n",
       "      <td>0</td>\n",
       "    </tr>\n",
       "    <tr>\n",
       "      <th>2</th>\n",
       "      <td>8.099124</td>\n",
       "      <td>224.236259</td>\n",
       "      <td>19909.541732</td>\n",
       "      <td>9.275884</td>\n",
       "      <td>323.000000</td>\n",
       "      <td>418.606213</td>\n",
       "      <td>16.868637</td>\n",
       "      <td>66.420093</td>\n",
       "      <td>3.055934</td>\n",
       "      <td>0</td>\n",
       "    </tr>\n",
       "    <tr>\n",
       "      <th>3</th>\n",
       "      <td>8.316766</td>\n",
       "      <td>214.373394</td>\n",
       "      <td>22018.417441</td>\n",
       "      <td>8.059332</td>\n",
       "      <td>356.886136</td>\n",
       "      <td>363.266516</td>\n",
       "      <td>18.436524</td>\n",
       "      <td>100.341674</td>\n",
       "      <td>4.628771</td>\n",
       "      <td>0</td>\n",
       "    </tr>\n",
       "    <tr>\n",
       "      <th>4</th>\n",
       "      <td>9.092223</td>\n",
       "      <td>181.101509</td>\n",
       "      <td>17978.986339</td>\n",
       "      <td>6.546600</td>\n",
       "      <td>310.135738</td>\n",
       "      <td>398.410813</td>\n",
       "      <td>11.558279</td>\n",
       "      <td>31.997993</td>\n",
       "      <td>4.075075</td>\n",
       "      <td>0</td>\n",
       "    </tr>\n",
       "  </tbody>\n",
       "</table>\n",
       "</div>"
      ],
      "text/plain": [
       "         ph    Hardness        Solids  Chloramines     Sulfate  Conductivity  \\\n",
       "0  1.000000  204.890455  20791.318981     7.300212  368.516441    564.308654   \n",
       "1  3.716080  129.422921  18630.057858     6.635246  303.000000    592.885359   \n",
       "2  8.099124  224.236259  19909.541732     9.275884  323.000000    418.606213   \n",
       "3  8.316766  214.373394  22018.417441     8.059332  356.886136    363.266516   \n",
       "4  9.092223  181.101509  17978.986339     6.546600  310.135738    398.410813   \n",
       "\n",
       "   Organic_carbon  Trihalomethanes  Turbidity  Potability  \n",
       "0       10.379783        86.990970   2.963135           0  \n",
       "1       15.180013        56.329076   4.500656           0  \n",
       "2       16.868637        66.420093   3.055934           0  \n",
       "3       18.436524       100.341674   4.628771           0  \n",
       "4       11.558279        31.997993   4.075075           0  "
      ]
     },
     "metadata": {},
     "execution_count": 520
    }
   ],
   "metadata": {}
  },
  {
   "cell_type": "code",
   "execution_count": 521,
   "source": [
    "df2.describe()"
   ],
   "outputs": [
    {
     "output_type": "execute_result",
     "data": {
      "text/html": [
       "<div>\n",
       "<style scoped>\n",
       "    .dataframe tbody tr th:only-of-type {\n",
       "        vertical-align: middle;\n",
       "    }\n",
       "\n",
       "    .dataframe tbody tr th {\n",
       "        vertical-align: top;\n",
       "    }\n",
       "\n",
       "    .dataframe thead th {\n",
       "        text-align: right;\n",
       "    }\n",
       "</style>\n",
       "<table border=\"1\" class=\"dataframe\">\n",
       "  <thead>\n",
       "    <tr style=\"text-align: right;\">\n",
       "      <th></th>\n",
       "      <th>ph</th>\n",
       "      <th>Hardness</th>\n",
       "      <th>Solids</th>\n",
       "      <th>Chloramines</th>\n",
       "      <th>Sulfate</th>\n",
       "      <th>Conductivity</th>\n",
       "      <th>Organic_carbon</th>\n",
       "      <th>Trihalomethanes</th>\n",
       "      <th>Turbidity</th>\n",
       "      <th>Potability</th>\n",
       "    </tr>\n",
       "  </thead>\n",
       "  <tbody>\n",
       "    <tr>\n",
       "      <th>count</th>\n",
       "      <td>46.000000</td>\n",
       "      <td>46.000000</td>\n",
       "      <td>46.000000</td>\n",
       "      <td>46.000000</td>\n",
       "      <td>46.000000</td>\n",
       "      <td>46.000000</td>\n",
       "      <td>46.000000</td>\n",
       "      <td>46.000000</td>\n",
       "      <td>46.000000</td>\n",
       "      <td>46.000000</td>\n",
       "    </tr>\n",
       "    <tr>\n",
       "      <th>mean</th>\n",
       "      <td>7.431085</td>\n",
       "      <td>201.052831</td>\n",
       "      <td>22424.782613</td>\n",
       "      <td>7.298607</td>\n",
       "      <td>333.449782</td>\n",
       "      <td>419.153043</td>\n",
       "      <td>13.825141</td>\n",
       "      <td>68.305668</td>\n",
       "      <td>3.837775</td>\n",
       "      <td>0.347826</td>\n",
       "    </tr>\n",
       "    <tr>\n",
       "      <th>std</th>\n",
       "      <td>2.275403</td>\n",
       "      <td>51.995366</td>\n",
       "      <td>7154.720583</td>\n",
       "      <td>1.568835</td>\n",
       "      <td>50.573083</td>\n",
       "      <td>81.523780</td>\n",
       "      <td>2.873532</td>\n",
       "      <td>17.738594</td>\n",
       "      <td>0.691879</td>\n",
       "      <td>0.481543</td>\n",
       "    </tr>\n",
       "    <tr>\n",
       "      <th>min</th>\n",
       "      <td>1.000000</td>\n",
       "      <td>47.432000</td>\n",
       "      <td>8532.139517</td>\n",
       "      <td>3.606036</td>\n",
       "      <td>187.170714</td>\n",
       "      <td>277.384537</td>\n",
       "      <td>8.399735</td>\n",
       "      <td>15.010000</td>\n",
       "      <td>2.436086</td>\n",
       "      <td>0.000000</td>\n",
       "    </tr>\n",
       "    <tr>\n",
       "      <th>25%</th>\n",
       "      <td>6.397459</td>\n",
       "      <td>172.756514</td>\n",
       "      <td>18560.038450</td>\n",
       "      <td>6.225507</td>\n",
       "      <td>303.077443</td>\n",
       "      <td>360.493440</td>\n",
       "      <td>11.544406</td>\n",
       "      <td>61.309976</td>\n",
       "      <td>3.439527</td>\n",
       "      <td>0.000000</td>\n",
       "    </tr>\n",
       "    <tr>\n",
       "      <th>50%</th>\n",
       "      <td>7.577112</td>\n",
       "      <td>211.870432</td>\n",
       "      <td>20571.910143</td>\n",
       "      <td>7.487289</td>\n",
       "      <td>331.001315</td>\n",
       "      <td>413.959607</td>\n",
       "      <td>13.839265</td>\n",
       "      <td>71.716982</td>\n",
       "      <td>3.962573</td>\n",
       "      <td>0.000000</td>\n",
       "    </tr>\n",
       "    <tr>\n",
       "      <th>75%</th>\n",
       "      <td>9.000000</td>\n",
       "      <td>230.252966</td>\n",
       "      <td>27350.933049</td>\n",
       "      <td>8.575555</td>\n",
       "      <td>366.275548</td>\n",
       "      <td>477.374372</td>\n",
       "      <td>15.583001</td>\n",
       "      <td>78.478355</td>\n",
       "      <td>4.376067</td>\n",
       "      <td>1.000000</td>\n",
       "    </tr>\n",
       "    <tr>\n",
       "      <th>max</th>\n",
       "      <td>13.175402</td>\n",
       "      <td>280.082411</td>\n",
       "      <td>41065.234765</td>\n",
       "      <td>10.094796</td>\n",
       "      <td>453.000000</td>\n",
       "      <td>592.885359</td>\n",
       "      <td>20.397022</td>\n",
       "      <td>100.341674</td>\n",
       "      <td>5.217895</td>\n",
       "      <td>1.000000</td>\n",
       "    </tr>\n",
       "  </tbody>\n",
       "</table>\n",
       "</div>"
      ],
      "text/plain": [
       "              ph    Hardness        Solids  Chloramines     Sulfate  \\\n",
       "count  46.000000   46.000000     46.000000    46.000000   46.000000   \n",
       "mean    7.431085  201.052831  22424.782613     7.298607  333.449782   \n",
       "std     2.275403   51.995366   7154.720583     1.568835   50.573083   \n",
       "min     1.000000   47.432000   8532.139517     3.606036  187.170714   \n",
       "25%     6.397459  172.756514  18560.038450     6.225507  303.077443   \n",
       "50%     7.577112  211.870432  20571.910143     7.487289  331.001315   \n",
       "75%     9.000000  230.252966  27350.933049     8.575555  366.275548   \n",
       "max    13.175402  280.082411  41065.234765    10.094796  453.000000   \n",
       "\n",
       "       Conductivity  Organic_carbon  Trihalomethanes  Turbidity  Potability  \n",
       "count     46.000000       46.000000        46.000000  46.000000   46.000000  \n",
       "mean     419.153043       13.825141        68.305668   3.837775    0.347826  \n",
       "std       81.523780        2.873532        17.738594   0.691879    0.481543  \n",
       "min      277.384537        8.399735        15.010000   2.436086    0.000000  \n",
       "25%      360.493440       11.544406        61.309976   3.439527    0.000000  \n",
       "50%      413.959607       13.839265        71.716982   3.962573    0.000000  \n",
       "75%      477.374372       15.583001        78.478355   4.376067    1.000000  \n",
       "max      592.885359       20.397022       100.341674   5.217895    1.000000  "
      ]
     },
     "metadata": {},
     "execution_count": 521
    }
   ],
   "metadata": {}
  },
  {
   "cell_type": "code",
   "execution_count": 522,
   "source": [
    "df2.info()"
   ],
   "outputs": [
    {
     "output_type": "stream",
     "name": "stdout",
     "text": [
      "<class 'pandas.core.frame.DataFrame'>\n",
      "RangeIndex: 46 entries, 0 to 45\n",
      "Data columns (total 10 columns):\n",
      " #   Column           Non-Null Count  Dtype  \n",
      "---  ------           --------------  -----  \n",
      " 0   ph               46 non-null     float64\n",
      " 1   Hardness         46 non-null     float64\n",
      " 2   Solids           46 non-null     float64\n",
      " 3   Chloramines      46 non-null     float64\n",
      " 4   Sulfate          46 non-null     float64\n",
      " 5   Conductivity     46 non-null     float64\n",
      " 6   Organic_carbon   46 non-null     float64\n",
      " 7   Trihalomethanes  46 non-null     float64\n",
      " 8   Turbidity        46 non-null     float64\n",
      " 9   Potability       46 non-null     int64  \n",
      "dtypes: float64(9), int64(1)\n",
      "memory usage: 3.7 KB\n"
     ]
    }
   ],
   "metadata": {}
  },
  {
   "cell_type": "code",
   "execution_count": 523,
   "source": [
    "corr1 = df2.corr()\r\n",
    "sns.heatmap(corr1, cmap=\"rainbow\")"
   ],
   "outputs": [
    {
     "output_type": "execute_result",
     "data": {
      "text/plain": [
       "<AxesSubplot:>"
      ]
     },
     "metadata": {},
     "execution_count": 523
    },
    {
     "output_type": "display_data",
     "data": {
      "image/png": "[encoded data removed]",
      "text/plain": [
       "<Figure size 432x288 with 2 Axes>"
      ]
     },
     "metadata": {
      "needs_background": "light"
     }
    }
   ],
   "metadata": {}
  },
  {
   "cell_type": "code",
   "execution_count": 524,
   "source": [
    "columns=df2.columns\r\n",
    "columns=columns[:9]\r\n",
    "x=df2[['ph', 'Hardness', 'Solids', 'Chloramines','Sulfate','Conductivity','Organic_carbon','Trihalomethanes','Turbidity']]\r\n",
    "y=df2[['Potability']]\r\n",
    "\r\n",
    "X_train, X_test, y_train, y_test = train_test_split(x,y,test_size=0.3)\r\n",
    "\r\n"
   ],
   "outputs": [],
   "metadata": {}
  },
  {
   "cell_type": "code",
   "execution_count": 525,
   "source": [
    "from sklearn.linear_model import LinearRegression\r\n",
    "lr = LinearRegression()\r\n",
    "lr.fit(X_train,y_train)\r\n",
    "y_Hat = lr.predict(X_test)"
   ],
   "outputs": [],
   "metadata": {}
  },
  {
   "cell_type": "code",
   "execution_count": 526,
   "source": [
    "from sklearn.metrics import mean_absolute_error\r\n",
    "mean_absolute_error(y_test, y_Hat)"
   ],
   "outputs": [
    {
     "output_type": "execute_result",
     "data": {
      "text/plain": [
       "0.4412706881345163"
      ]
     },
     "metadata": {},
     "execution_count": 526
    }
   ],
   "metadata": {}
  },
  {
   "cell_type": "code",
   "execution_count": 527,
   "source": [
    "from sklearn.metrics import mean_squared_error \r\n",
    "mean_squared_error(y_test, y_Hat)"
   ],
   "outputs": [
    {
     "output_type": "execute_result",
     "data": {
      "text/plain": [
       "0.21827712834913995"
      ]
     },
     "metadata": {},
     "execution_count": 527
    }
   ],
   "metadata": {}
  },
  {
   "cell_type": "code",
   "execution_count": 528,
   "source": [
    "res = pd.DataFrame(y_test)\r\n",
    "res['Potability_predicted'] = y_Hat\r\n",
    "res.head()"
   ],
   "outputs": [
    {
     "output_type": "execute_result",
     "data": {
      "text/html": [
       "<div>\n",
       "<style scoped>\n",
       "    .dataframe tbody tr th:only-of-type {\n",
       "        vertical-align: middle;\n",
       "    }\n",
       "\n",
       "    .dataframe tbody tr th {\n",
       "        vertical-align: top;\n",
       "    }\n",
       "\n",
       "    .dataframe thead th {\n",
       "        text-align: right;\n",
       "    }\n",
       "</style>\n",
       "<table border=\"1\" class=\"dataframe\">\n",
       "  <thead>\n",
       "    <tr style=\"text-align: right;\">\n",
       "      <th></th>\n",
       "      <th>Potability</th>\n",
       "      <th>Potability_predicted</th>\n",
       "    </tr>\n",
       "  </thead>\n",
       "  <tbody>\n",
       "    <tr>\n",
       "      <th>18</th>\n",
       "      <td>0</td>\n",
       "      <td>0.457936</td>\n",
       "    </tr>\n",
       "    <tr>\n",
       "      <th>39</th>\n",
       "      <td>1</td>\n",
       "      <td>0.395982</td>\n",
       "    </tr>\n",
       "    <tr>\n",
       "      <th>29</th>\n",
       "      <td>0</td>\n",
       "      <td>0.396150</td>\n",
       "    </tr>\n",
       "    <tr>\n",
       "      <th>11</th>\n",
       "      <td>0</td>\n",
       "      <td>0.397034</td>\n",
       "    </tr>\n",
       "    <tr>\n",
       "      <th>14</th>\n",
       "      <td>0</td>\n",
       "      <td>0.325258</td>\n",
       "    </tr>\n",
       "  </tbody>\n",
       "</table>\n",
       "</div>"
      ],
      "text/plain": [
       "    Potability  Potability_predicted\n",
       "18           0              0.457936\n",
       "39           1              0.395982\n",
       "29           0              0.396150\n",
       "11           0              0.397034\n",
       "14           0              0.325258"
      ]
     },
     "metadata": {},
     "execution_count": 528
    }
   ],
   "metadata": {}
  },
  {
   "cell_type": "code",
   "execution_count": 529,
   "source": [
    "plt.scatter(res['Potability'],res['Potability_predicted'])\r\n"
   ],
   "outputs": [
    {
     "output_type": "execute_result",
     "data": {
      "text/plain": [
       "<matplotlib.collections.PathCollection at 0x247b2185070>"
      ]
     },
     "metadata": {},
     "execution_count": 529
    },
    {
     "output_type": "display_data",
     "data": {
      "image/png": "[encoded data removed]",
      "text/plain": [
       "<Figure size 432x288 with 1 Axes>"
      ]
     },
     "metadata": {
      "needs_background": "light"
     }
    }
   ],
   "metadata": {}
  },
  {
   "cell_type": "markdown",
   "source": [
    "(опціонально для отримання відмінної оцінки) Згенерувати набір даних для регресії на основі звичайних можливостей Python."
   ],
   "metadata": {}
  },
  {
   "cell_type": "code",
   "execution_count": 530,
   "source": [
    "sex = {0:'Female', 1:'Male'}\r\n",
    "sick_coronavirus = {0:'No', 1:'Yes'}\r\n",
    "vaccine = {0:'Dont have', 1:'Have'}\r\n",
    "type_of_vaccine = {0:'Pfizer', 1:'Moderna', 2: 'AstraZeneca', 3: 'Covaxin'}\r\n",
    "citizenship = {0:'Ukrainian', 1:'Poland', 2:'Portugal', 3:'Germany'}\r\n",
    "info = []\r\n",
    "for i in range(0, 256):\r\n",
    "    row = []\r\n",
    "    row.append(sex[rnd.randint(0, 1)])\r\n",
    "    row.append(sick_coronavirus[rnd.randint(0, 1)])\r\n",
    "    row.append(vaccine[rnd.randint(0, 1)])\r\n",
    "    row.append(type_of_vaccine[rnd.randint(0, 3)])\r\n",
    "    row.append(citizenship[rnd.randint(0, 3)])\r\n",
    "    info.append(row)\r\n",
    "df3 = pd.DataFrame(info, columns=['sex', 'sick_coronavirus', 'vaccine', 'type_of_vaccine', 'citizenship'])\r\n",
    "df3.to_csv('df3.csv')\r\n",
    "df3.head()\r\n"
   ],
   "outputs": [
    {
     "output_type": "execute_result",
     "data": {
      "text/html": [
       "<div>\n",
       "<style scoped>\n",
       "    .dataframe tbody tr th:only-of-type {\n",
       "        vertical-align: middle;\n",
       "    }\n",
       "\n",
       "    .dataframe tbody tr th {\n",
       "        vertical-align: top;\n",
       "    }\n",
       "\n",
       "    .dataframe thead th {\n",
       "        text-align: right;\n",
       "    }\n",
       "</style>\n",
       "<table border=\"1\" class=\"dataframe\">\n",
       "  <thead>\n",
       "    <tr style=\"text-align: right;\">\n",
       "      <th></th>\n",
       "      <th>sex</th>\n",
       "      <th>sick_coronavirus</th>\n",
       "      <th>vaccine</th>\n",
       "      <th>type_of_vaccine</th>\n",
       "      <th>citizenship</th>\n",
       "    </tr>\n",
       "  </thead>\n",
       "  <tbody>\n",
       "    <tr>\n",
       "      <th>0</th>\n",
       "      <td>Male</td>\n",
       "      <td>No</td>\n",
       "      <td>Dont have</td>\n",
       "      <td>AstraZeneca</td>\n",
       "      <td>Ukrainian</td>\n",
       "    </tr>\n",
       "    <tr>\n",
       "      <th>1</th>\n",
       "      <td>Female</td>\n",
       "      <td>No</td>\n",
       "      <td>Have</td>\n",
       "      <td>Pfizer</td>\n",
       "      <td>Poland</td>\n",
       "    </tr>\n",
       "    <tr>\n",
       "      <th>2</th>\n",
       "      <td>Male</td>\n",
       "      <td>No</td>\n",
       "      <td>Have</td>\n",
       "      <td>AstraZeneca</td>\n",
       "      <td>Poland</td>\n",
       "    </tr>\n",
       "    <tr>\n",
       "      <th>3</th>\n",
       "      <td>Female</td>\n",
       "      <td>No</td>\n",
       "      <td>Have</td>\n",
       "      <td>Covaxin</td>\n",
       "      <td>Portugal</td>\n",
       "    </tr>\n",
       "    <tr>\n",
       "      <th>4</th>\n",
       "      <td>Female</td>\n",
       "      <td>No</td>\n",
       "      <td>Have</td>\n",
       "      <td>Pfizer</td>\n",
       "      <td>Portugal</td>\n",
       "    </tr>\n",
       "  </tbody>\n",
       "</table>\n",
       "</div>"
      ],
      "text/plain": [
       "      sex sick_coronavirus    vaccine type_of_vaccine citizenship\n",
       "0    Male               No  Dont have     AstraZeneca   Ukrainian\n",
       "1  Female               No       Have          Pfizer      Poland\n",
       "2    Male               No       Have     AstraZeneca      Poland\n",
       "3  Female               No       Have         Covaxin    Portugal\n",
       "4  Female               No       Have          Pfizer    Portugal"
      ]
     },
     "metadata": {},
     "execution_count": 530
    }
   ],
   "metadata": {}
  },
  {
   "cell_type": "code",
   "execution_count": 531,
   "source": [
    "df3.replace({'Female': 0, 'Male':1, 'No': 0, 'Yes':1, 'Dont have':0, 'Have':1, 'Pfizer':0, 'Moderna':1, 'AstraZeneca':2, 'Covaxin':3, 'Ukrainian': 0, 'Poland':1, 'Portugal':2, 'Germany':3}, None, True)\r\n"
   ],
   "outputs": [],
   "metadata": {}
  },
  {
   "cell_type": "code",
   "execution_count": 532,
   "source": [
    "df3.info()"
   ],
   "outputs": [
    {
     "output_type": "stream",
     "name": "stdout",
     "text": [
      "<class 'pandas.core.frame.DataFrame'>\n",
      "RangeIndex: 256 entries, 0 to 255\n",
      "Data columns (total 5 columns):\n",
      " #   Column            Non-Null Count  Dtype\n",
      "---  ------            --------------  -----\n",
      " 0   sex               256 non-null    int64\n",
      " 1   sick_coronavirus  256 non-null    int64\n",
      " 2   vaccine           256 non-null    int64\n",
      " 3   type_of_vaccine   256 non-null    int64\n",
      " 4   citizenship       256 non-null    int64\n",
      "dtypes: int64(5)\n",
      "memory usage: 10.1 KB\n"
     ]
    }
   ],
   "metadata": {}
  },
  {
   "cell_type": "code",
   "execution_count": 533,
   "source": [
    "df3.describe()"
   ],
   "outputs": [
    {
     "output_type": "execute_result",
     "data": {
      "text/html": [
       "<div>\n",
       "<style scoped>\n",
       "    .dataframe tbody tr th:only-of-type {\n",
       "        vertical-align: middle;\n",
       "    }\n",
       "\n",
       "    .dataframe tbody tr th {\n",
       "        vertical-align: top;\n",
       "    }\n",
       "\n",
       "    .dataframe thead th {\n",
       "        text-align: right;\n",
       "    }\n",
       "</style>\n",
       "<table border=\"1\" class=\"dataframe\">\n",
       "  <thead>\n",
       "    <tr style=\"text-align: right;\">\n",
       "      <th></th>\n",
       "      <th>sex</th>\n",
       "      <th>sick_coronavirus</th>\n",
       "      <th>vaccine</th>\n",
       "      <th>type_of_vaccine</th>\n",
       "      <th>citizenship</th>\n",
       "    </tr>\n",
       "  </thead>\n",
       "  <tbody>\n",
       "    <tr>\n",
       "      <th>count</th>\n",
       "      <td>256.000000</td>\n",
       "      <td>256.000000</td>\n",
       "      <td>256.00000</td>\n",
       "      <td>256.000000</td>\n",
       "      <td>256.000000</td>\n",
       "    </tr>\n",
       "    <tr>\n",
       "      <th>mean</th>\n",
       "      <td>0.507812</td>\n",
       "      <td>0.503906</td>\n",
       "      <td>0.46875</td>\n",
       "      <td>1.492188</td>\n",
       "      <td>1.441406</td>\n",
       "    </tr>\n",
       "    <tr>\n",
       "      <th>std</th>\n",
       "      <td>0.500918</td>\n",
       "      <td>0.500964</td>\n",
       "      <td>0.50000</td>\n",
       "      <td>1.095417</td>\n",
       "      <td>1.090280</td>\n",
       "    </tr>\n",
       "    <tr>\n",
       "      <th>min</th>\n",
       "      <td>0.000000</td>\n",
       "      <td>0.000000</td>\n",
       "      <td>0.00000</td>\n",
       "      <td>0.000000</td>\n",
       "      <td>0.000000</td>\n",
       "    </tr>\n",
       "    <tr>\n",
       "      <th>25%</th>\n",
       "      <td>0.000000</td>\n",
       "      <td>0.000000</td>\n",
       "      <td>0.00000</td>\n",
       "      <td>1.000000</td>\n",
       "      <td>0.750000</td>\n",
       "    </tr>\n",
       "    <tr>\n",
       "      <th>50%</th>\n",
       "      <td>1.000000</td>\n",
       "      <td>1.000000</td>\n",
       "      <td>0.00000</td>\n",
       "      <td>1.000000</td>\n",
       "      <td>1.000000</td>\n",
       "    </tr>\n",
       "    <tr>\n",
       "      <th>75%</th>\n",
       "      <td>1.000000</td>\n",
       "      <td>1.000000</td>\n",
       "      <td>1.00000</td>\n",
       "      <td>2.000000</td>\n",
       "      <td>2.000000</td>\n",
       "    </tr>\n",
       "    <tr>\n",
       "      <th>max</th>\n",
       "      <td>1.000000</td>\n",
       "      <td>1.000000</td>\n",
       "      <td>1.00000</td>\n",
       "      <td>3.000000</td>\n",
       "      <td>3.000000</td>\n",
       "    </tr>\n",
       "  </tbody>\n",
       "</table>\n",
       "</div>"
      ],
      "text/plain": [
       "              sex  sick_coronavirus    vaccine  type_of_vaccine  citizenship\n",
       "count  256.000000        256.000000  256.00000       256.000000   256.000000\n",
       "mean     0.507812          0.503906    0.46875         1.492188     1.441406\n",
       "std      0.500918          0.500964    0.50000         1.095417     1.090280\n",
       "min      0.000000          0.000000    0.00000         0.000000     0.000000\n",
       "25%      0.000000          0.000000    0.00000         1.000000     0.750000\n",
       "50%      1.000000          1.000000    0.00000         1.000000     1.000000\n",
       "75%      1.000000          1.000000    1.00000         2.000000     2.000000\n",
       "max      1.000000          1.000000    1.00000         3.000000     3.000000"
      ]
     },
     "metadata": {},
     "execution_count": 533
    }
   ],
   "metadata": {}
  },
  {
   "cell_type": "code",
   "execution_count": 534,
   "source": [
    "corr2 = df3.corr()\r\n",
    "sns.heatmap(corr2, cmap=\"rainbow\")"
   ],
   "outputs": [
    {
     "output_type": "execute_result",
     "data": {
      "text/plain": [
       "<AxesSubplot:>"
      ]
     },
     "metadata": {},
     "execution_count": 534
    },
    {
     "output_type": "display_data",
     "data": {
      "image/png": "[encoded data removed]",
      "text/plain": [
       "<Figure size 432x288 with 2 Axes>"
      ]
     },
     "metadata": {
      "needs_background": "light"
     }
    }
   ],
   "metadata": {}
  },
  {
   "cell_type": "code",
   "execution_count": 535,
   "source": [
    "columns=df3.columns\r\n",
    "columns=columns[:4]\r\n",
    "x=df3[['sex', 'sick_coronavirus', 'vaccine', 'type_of_vaccine']]\r\n",
    "y=df3[['citizenship']]\r\n",
    "\r\n",
    "X_train, X_test, y_train, y_test = train_test_split(x,y,test_size=0.3)\r\n"
   ],
   "outputs": [],
   "metadata": {}
  },
  {
   "cell_type": "code",
   "execution_count": 536,
   "source": [
    "from sklearn.linear_model import LinearRegression\r\n",
    "lr = LinearRegression()\r\n",
    "lr.fit(X_train,y_train)\r\n",
    "y_Hat = lr.predict(X_test)"
   ],
   "outputs": [],
   "metadata": {}
  },
  {
   "cell_type": "code",
   "execution_count": 537,
   "source": [
    "mean_absolute_error(y_test, y_Hat)"
   ],
   "outputs": [
    {
     "output_type": "execute_result",
     "data": {
      "text/plain": [
       "0.99658117078398"
      ]
     },
     "metadata": {},
     "execution_count": 537
    }
   ],
   "metadata": {}
  },
  {
   "cell_type": "code",
   "execution_count": 538,
   "source": [
    "mean_squared_error(y_test, y_Hat)"
   ],
   "outputs": [
    {
     "output_type": "execute_result",
     "data": {
      "text/plain": [
       "1.3023133292428515"
      ]
     },
     "metadata": {},
     "execution_count": 538
    }
   ],
   "metadata": {}
  },
  {
   "cell_type": "code",
   "execution_count": 539,
   "source": [
    "res = pd.DataFrame(y_test)\r\n",
    "res['citizenship_predicted'] = y_Hat\r\n",
    "res.head()"
   ],
   "outputs": [
    {
     "output_type": "execute_result",
     "data": {
      "text/html": [
       "<div>\n",
       "<style scoped>\n",
       "    .dataframe tbody tr th:only-of-type {\n",
       "        vertical-align: middle;\n",
       "    }\n",
       "\n",
       "    .dataframe tbody tr th {\n",
       "        vertical-align: top;\n",
       "    }\n",
       "\n",
       "    .dataframe thead th {\n",
       "        text-align: right;\n",
       "    }\n",
       "</style>\n",
       "<table border=\"1\" class=\"dataframe\">\n",
       "  <thead>\n",
       "    <tr style=\"text-align: right;\">\n",
       "      <th></th>\n",
       "      <th>citizenship</th>\n",
       "      <th>citizenship_predicted</th>\n",
       "    </tr>\n",
       "  </thead>\n",
       "  <tbody>\n",
       "    <tr>\n",
       "      <th>197</th>\n",
       "      <td>1</td>\n",
       "      <td>1.301798</td>\n",
       "    </tr>\n",
       "    <tr>\n",
       "      <th>187</th>\n",
       "      <td>3</td>\n",
       "      <td>1.093394</td>\n",
       "    </tr>\n",
       "    <tr>\n",
       "      <th>20</th>\n",
       "      <td>0</td>\n",
       "      <td>1.525560</td>\n",
       "    </tr>\n",
       "    <tr>\n",
       "      <th>198</th>\n",
       "      <td>2</td>\n",
       "      <td>1.606751</td>\n",
       "    </tr>\n",
       "    <tr>\n",
       "      <th>77</th>\n",
       "      <td>2</td>\n",
       "      <td>1.346382</td>\n",
       "    </tr>\n",
       "  </tbody>\n",
       "</table>\n",
       "</div>"
      ],
      "text/plain": [
       "     citizenship  citizenship_predicted\n",
       "197            1               1.301798\n",
       "187            3               1.093394\n",
       "20             0               1.525560\n",
       "198            2               1.606751\n",
       "77             2               1.346382"
      ]
     },
     "metadata": {},
     "execution_count": 539
    }
   ],
   "metadata": {}
  },
  {
   "cell_type": "code",
   "execution_count": 540,
   "source": [
    "plt.scatter(res['citizenship'],res['citizenship_predicted'])\r\n"
   ],
   "outputs": [
    {
     "output_type": "execute_result",
     "data": {
      "text/plain": [
       "<matplotlib.collections.PathCollection at 0x247b2265910>"
      ]
     },
     "metadata": {},
     "execution_count": 540
    },
    {
     "output_type": "display_data",
     "data": {
      "image/png": "[encoded data removed]",
      "text/plain": [
       "<Figure size 432x288 with 1 Axes>"
      ]
     },
     "metadata": {
      "needs_background": "light"
     }
    }
   ],
   "metadata": {}
  }
 ],
 "metadata": {
  "orig_nbformat": 4,
  "language_info": {
   "name": "python",
   "version": "3.8.8",
   "mimetype": "text/x-python",
   "codemirror_mode": {
    "name": "ipython",
    "version": 3
   },
   "pygments_lexer": "ipython3",
   "nbconvert_exporter": "python",
   "file_extension": ".py"
  },
  "kernelspec": {
   "name": "python3",
   "display_name": "Python 3.8.8 64-bit ('base': conda)"
  },
  "interpreter": {
   "hash": "8550c60217d6af2fd86eb867bc82f0bc173c8b38e1df221fbd1e5a6c992d1033"
  }
 },
 "nbformat": 4,
 "nbformat_minor": 2
}